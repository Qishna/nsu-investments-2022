{
 "cells": [
  {
   "cell_type": "code",
   "execution_count": 4,
   "metadata": {
    "collapsed": true
   },
   "outputs": [],
   "source": [
    "import numpy as np\n",
    "import matplotlib.pyplot as plt\n",
    "from matplotlib.animation import FuncAnimation\n",
    "\n",
    "import pandas as pd\n",
    "import yfinance as yf\n",
    "from yahoofinancials import YahooFinancials\n",
    "from datetime import datetime, timedelta\n",
    "from tqdm import tqdm\n",
    "from time import time\n",
    "from sklearn.linear_model import LinearRegression\n"
   ]
  },
  {
   "cell_type": "markdown",
   "metadata": {
    "collapsed": false,
    "pycharm": {
     "name": "#%% md\n"
    }
   },
   "source": [
    "# TASK 1"
   ]
  },
  {
   "cell_type": "code",
   "execution_count": 6,
   "metadata": {
    "collapsed": false,
    "pycharm": {
     "name": "#%%\n"
    }
   },
   "outputs": [],
   "source": [
    "def cont_comp_returns(sol):\n",
    "    return np.diff(sol) / sol[:-1]\n",
    "\n",
    "\n",
    "def year_return(stocks, weights, periods):\n",
    "    return (1+np.sum((stocks.mean() * weights)))**periods - 1\n",
    "\n",
    "\n",
    "def year_std(stocks, weights, periods):\n",
    "    return np.sqrt(np.dot(weights.T, np.dot(stocks.cov(), weights))) * np.sqrt(periods)\n"
   ]
  },
  {
   "cell_type": "code",
   "execution_count": 3,
   "metadata": {
    "collapsed": false,
    "pycharm": {
     "name": "#%%\n"
    }
   },
   "outputs": [],
   "source": [
    "yahoo_financials1 = YahooFinancials('AAPL')\n",
    "data1 = yahoo_financials1.get_historical_price_data(start_date='2010-01-01',\n",
    "                                                    end_date='2021-12-31',\n",
    "                                                    time_interval='weekly')\n",
    "comp_df = pd.DataFrame(data1['AAPL']['prices'])\n",
    "aapl = cont_comp_returns(comp_df['close']).dropna()\n",
    "\n",
    "yahoo_financials2 = YahooFinancials('PG')\n",
    "data2 = yahoo_financials2.get_historical_price_data(start_date='2010-01-01',\n",
    "                                                    end_date='2021-12-31',\n",
    "                                                    time_interval='weekly')\n",
    "comp_df = pd.DataFrame(data2['PG']['prices'])\n",
    "pg = cont_comp_returns(comp_df['close']).dropna()\n",
    "\n",
    "yahoo_financials2 = YahooFinancials('TSLA')\n",
    "data2 = yahoo_financials2.get_historical_price_data(start_date='2010-01-01',\n",
    "                                                    end_date='2021-12-31',\n",
    "                                                    time_interval='weekly')\n",
    "comp_df = pd.DataFrame(data2['TSLA']['prices'])\n",
    "tsla = cont_comp_returns(comp_df['close']).dropna()\n",
    "\n",
    "yahoo_financials2 = YahooFinancials('VGT')\n",
    "data2 = yahoo_financials2.get_historical_price_data(start_date='2010-01-01',\n",
    "                                                    end_date='2021-12-31',\n",
    "                                                    time_interval='weekly')\n",
    "comp_df = pd.DataFrame(data2['VGT']['prices'])\n",
    "vgt = cont_comp_returns(comp_df['close']).dropna()\n",
    "\n",
    "yahoo_financials2 = YahooFinancials('BNDX')\n",
    "data2 = yahoo_financials2.get_historical_price_data(start_date='2010-01-01',\n",
    "                                                    end_date='2021-12-31',\n",
    "                                                    time_interval='weekly')\n",
    "comp_df = pd.DataFrame(data2['BNDX']['prices'])\n",
    "bndx = cont_comp_returns(comp_df['close']).dropna()\n",
    "\n",
    "yahoo_financials2 = YahooFinancials('AMZN')\n",
    "data2 = yahoo_financials2.get_historical_price_data(start_date='2010-01-01',\n",
    "                                                    end_date='2021-12-31',\n",
    "                                                    time_interval='weekly')\n",
    "comp_df = pd.DataFrame(data2['AMZN']['prices'])\n",
    "amzn = cont_comp_returns(comp_df['close']).dropna()\n"
   ]
  },
  {
   "cell_type": "markdown",
   "metadata": {},
   "source": [
    "## (a) Чтобы доказать следующие соотношения сгенерируем портфель, посчитаем левые и правые части."
   ]
  },
  {
   "cell_type": "code",
   "execution_count": 5,
   "metadata": {
    "collapsed": false,
    "pycharm": {
     "name": "#%%\n"
    }
   },
   "outputs": [
    {
     "data": {
      "image/png": "[encoded data removed]",
      "text/plain": [
       "<Figure size 864x576 with 2 Axes>"
      ]
     },
     "metadata": {
      "needs_background": "light"
     },
     "output_type": "display_data"
    },
    {
     "name": "stdout",
     "output_type": "stream",
     "text": [
      "AAPL_ret    0.005454\n",
      "PG_ret      0.011933\n",
      "dtype: float64 [0.00642619        nan]\n",
      "AAPL_ret   -0.000972\n",
      "PG_ret           NaN\n",
      "dtype: float64 res\n"
     ]
    }
   ],
   "source": [
    "rs_rate = 0.015\n",
    "stocks = pd.DataFrame()\n",
    "stocks['AAPL_ret'] = aapl\n",
    "stocks['PG_ret'] = tsla\n",
    "stocks['Risk_free'] = np.ones(stocks.shape[0]) * \\\n",
    "    np.power(1 + rs_rate, 1/52) - 1\n",
    "\n",
    "\n",
    "np.random.seed(42)\n",
    "num_ports = 28000\n",
    "risk_aversion = 20\n",
    "all_weights = np.zeros((num_ports, len(stocks.columns)))\n",
    "ret_arr = np.zeros(num_ports)\n",
    "std_arr = np.zeros(num_ports)\n",
    "sharpe_arr = np.zeros(num_ports)\n",
    "\n",
    "\n",
    "for x in range(num_ports):\n",
    "    # Weights\n",
    "    weights = np.array(np.random.random(3))\n",
    "    weights = weights/np.sum(weights)\n",
    "\n",
    "    # Save weights\n",
    "    all_weights[x, :] = weights\n",
    "\n",
    "    # Expected return\n",
    "    ret_arr[x] = (1+np.sum((stocks.mean() * weights)))**52 - 1\n",
    "\n",
    "    # Expected volatility\n",
    "    std_arr[x] = np.sqrt(np.dot(weights.T, np.dot(\n",
    "        stocks.cov(), weights))) * np.sqrt(52)\n",
    "\n",
    "U = (ret_arr - (risk_aversion/2) * np.square(std_arr))\n",
    "\n",
    "opt_solution, opt_solution_idx = np.max(U), np.argmax(U)\n",
    "opt_weights = all_weights[opt_solution_idx]\n",
    "opt_returns = (stocks * opt_weights).sum(axis=1)\n",
    "stocks['Optimal'] = opt_returns\n",
    "\n",
    "\n",
    "plt.figure(figsize=(12, 8))\n",
    "plt.scatter(std_arr, ret_arr, c=sharpe_arr, cmap='viridis')\n",
    "plt.colorbar(label='Sharpe Ratio')\n",
    "plt.xlabel('Volatility')\n",
    "plt.ylabel('Return')\n",
    "plt.show()\n",
    "\n",
    "\n",
    "left_part = stocks[['AAPL_ret', 'PG_ret']].mean() - stocks['Risk_free'].mean()\n",
    "right_part = (risk_aversion * np.cov(stocks.T)[[0, 1], -1])\n",
    "res = left_part - right_part\n",
    "print(left_part, right_part)\n",
    "print(res, 'res')\n"
   ]
  },
  {
   "cell_type": "markdown",
   "metadata": {},
   "source": [
    "## Так как разность левой и правой части получилось очень маленькой, то тождество доказано."
   ]
  },
  {
   "cell_type": "markdown",
   "metadata": {},
   "source": [
    "## (b)"
   ]
  },
  {
   "cell_type": "code",
   "execution_count": 148,
   "metadata": {
    "collapsed": false,
    "pycharm": {
     "name": "#%%\n"
    }
   },
   "outputs": [
    {
     "name": "stdout",
     "output_type": "stream",
     "text": [
      "(2,)\n",
      "(2,)\n",
      "(2,)\n",
      "(2,)\n",
      "(2,)\n",
      "(2,)\n",
      "(2,)\n",
      "(2,)\n",
      "(2,)\n",
      "(2,)\n"
     ]
    },
    {
     "data": {
      "text/plain": [
       "[array([-0.00198438,  0.00198822]),\n",
       " array([-0.0019757 ,  0.00196683]),\n",
       " array([-0.0019675 ,  0.00194801]),\n",
       " array([-0.00199533,  0.00201786]),\n",
       " array([-0.00198912,  0.00200063]),\n",
       " array([-0.00197878,  0.00197424]),\n",
       " array([-0.00196868,  0.00195065]),\n",
       " array([-0.00194165,  0.00189526]),\n",
       " array([-0.00197486,  0.00196486]),\n",
       " array([-0.00193831,  0.00188903])]"
      ]
     },
     "execution_count": 148,
     "metadata": {},
     "output_type": "execute_result"
    }
   ],
   "source": [
    "examples = 10\n",
    "\n",
    "diff = []\n",
    "portfolios_idx = np.flip(np.argsort(U))[:examples]\n",
    "chosen_weights = all_weights[portfolios_idx]\n",
    "for weights in chosen_weights:\n",
    "    Rf = stocks['Risk_free'].mean()\n",
    "    Rp = np.expand_dims(\n",
    "        (stocks[['AAPL_ret', 'PG_ret', 'Risk_free']] * weights).sum(axis=1).to_numpy(), axis=1)\n",
    "    Rp_mean = Rp.mean()\n",
    "    Rp_var = Rp.var(ddof=0)\n",
    "\n",
    "    Ri_returns = stocks[['AAPL_ret', 'PG_ret']].to_numpy()\n",
    "    Ri_mean = Ri_returns.mean()\n",
    "    left_part = Ri_mean - Rf\n",
    "\n",
    "    cov_inp = np.hstack((Ri_returns, Rp))\n",
    "    cov = np.cov(np.hstack((Ri_returns, Rp)).T)[:-1, -1]\n",
    "    print(cov.shape)\n",
    "    beta = cov/Rp_var\n",
    "    right_part = beta * (Rp_mean - Rf)\n",
    "    diff_value = left_part - right_part\n",
    "    diff.append(diff_value)\n",
    "\n",
    "diff\n"
   ]
  },
  {
   "cell_type": "markdown",
   "metadata": {},
   "source": [
    "## Аналогично получили маленькие разности левых и правых частей"
   ]
  },
  {
   "cell_type": "markdown",
   "metadata": {},
   "source": [
    "## (c)"
   ]
  },
  {
   "cell_type": "code",
   "execution_count": 9,
   "metadata": {
    "collapsed": false,
    "pycharm": {
     "name": "#%%\n"
    }
   },
   "outputs": [
    {
     "name": "stdout",
     "output_type": "stream",
     "text": [
      "2.556706864840282e-06 -0.006834873288692478 -0.004175179402238648 -0.00022654854518523623\n"
     ]
    }
   ],
   "source": [
    "def Linreg_company(ticker, num_samples, stocks, U):\n",
    "    Ri = stocks[ticker].to_numpy()\n",
    "    Rf = stocks['Risk_free'][0]\n",
    "    portfolios_idx = np.flip(np.argsort(U))[:num_samples]\n",
    "    chosen_weights = all_weights[portfolios_idx]\n",
    "\n",
    "    beta1_lr_arr = []\n",
    "    beta1_analytic_arr = []\n",
    "    beta0_lr_arr = []\n",
    "    error_mean_arr = []\n",
    "    error_cov_arr = []\n",
    "\n",
    "    for weights in chosen_weights:\n",
    "        Rp = np.expand_dims(\n",
    "            (stocks[['AAPL_ret', 'PG_ret', 'Risk_free']] * weights).sum(axis=1).to_numpy(), axis=1)\n",
    "\n",
    "        # Calculate regression coeffs\n",
    "        reg_apl = LinearRegression().fit((Rp - Rf), Ri)\n",
    "        beta1_lr = reg_apl.coef_[0]\n",
    "        beta0_lr = reg_apl.intercept_\n",
    "        beta0_lr_arr.append(beta0_lr)\n",
    "        beta1_lr_arr.append(beta1_lr)\n",
    "\n",
    "        # Calculate error and beta1\n",
    "        Ri_pred = beta0_lr + beta1_lr * (Rp - Rf)\n",
    "        error = (Rp - Ri_pred).squeeze()\n",
    "        error_mean = np.mean(error)\n",
    "        error_cov = np.cov(Rp.squeeze(), error)[0][1]\n",
    "        error_mean_arr.append(error_mean)\n",
    "        error_cov_arr.append(error_cov)\n",
    "\n",
    "        beta1_anal = np.cov(Ri, Rp.squeeze())[0][1] / (Rp.squeeze() - Rf).var()\n",
    "        beta1_analytic_arr.append(beta1_anal)\n",
    "\n",
    "    beta0_diff = np.mean(beta0_lr_arr) - Rf\n",
    "    beta1_diff = np.mean(beta1_lr_arr) - np.mean(beta1_analytic_arr)\n",
    "    error_mean_fin = np.mean(error_mean_arr)\n",
    "    error_cov_fin = np.mean(error_cov_arr)\n",
    "\n",
    "    return beta0_diff, beta1_diff, error_mean_fin, error_cov_fin\n",
    "\n",
    "\n",
    "a, b, c, d = Linreg_company('AAPL_ret', 10, stocks, U)\n",
    "print(a, b, c, d)\n"
   ]
  },
  {
   "cell_type": "markdown",
   "metadata": {},
   "source": [
    "## (d)"
   ]
  },
  {
   "cell_type": "code",
   "execution_count": 13,
   "metadata": {
    "collapsed": false,
    "pycharm": {
     "name": "#%%\n"
    }
   },
   "outputs": [
    {
     "name": "stdout",
     "output_type": "stream",
     "text": [
      "0.0015778701883338727 0.008408065844988696\n",
      "0.0015829965421685196 0.00844112134376686\n",
      "0.0015396746309848295 0.008159195816048334\n",
      "0.0015346385111560607 0.008127763440417447\n",
      "0.001595202425528648 0.008521301099867984\n",
      "0.0015216561651948005 0.008041850008718678\n",
      "0.0016033209962702465 0.008573502533542903\n",
      "0.00158952963205594 0.00848604840313196\n",
      "0.0015146917124105167 0.007996450051007329\n",
      "0.0015952414677283403 0.008523716827526033\n",
      "0.15359489767467363 1.849261960314837e-05\n"
     ]
    }
   ],
   "source": [
    "num_samples = 10\n",
    "portfolios_idx = np.flip(np.argsort(U))[:num_samples]\n",
    "chosen_weights = all_weights[portfolios_idx]\n",
    "\n",
    "Rf = stocks['Risk_free'][0]\n",
    "SR = []\n",
    "for weights in chosen_weights:\n",
    "    Rp = (stocks[['AAPL_ret', 'PG_ret', 'Risk_free']]\n",
    "          * weights).sum(axis=1).to_numpy()\n",
    "    Rp_mean = Rp.mean()\n",
    "    Rp_std = Rp.std()\n",
    "    sr = (Rp_mean - Rf) / Rp_std\n",
    "    SR.append(sr)\n",
    "\n",
    "print(np.mean(SR), np.std(SR))\n"
   ]
  },
  {
   "cell_type": "markdown",
   "metadata": {
    "collapsed": false,
    "pycharm": {
     "name": "#%% md\n"
    }
   },
   "source": [
    "# TASK 2"
   ]
  },
  {
   "cell_type": "code",
   "execution_count": 7,
   "metadata": {
    "collapsed": false,
    "pycharm": {
     "name": "#%%\n"
    }
   },
   "outputs": [
    {
     "data": {
      "text/html": [
       "<div>\n",
       "<style scoped>\n",
       "    .dataframe tbody tr th:only-of-type {\n",
       "        vertical-align: middle;\n",
       "    }\n",
       "\n",
       "    .dataframe tbody tr th {\n",
       "        vertical-align: top;\n",
       "    }\n",
       "\n",
       "    .dataframe thead th {\n",
       "        text-align: right;\n",
       "    }\n",
       "</style>\n",
       "<table border=\"1\" class=\"dataframe\">\n",
       "  <thead>\n",
       "    <tr style=\"text-align: right;\">\n",
       "      <th></th>\n",
       "      <th>AXP</th>\n",
       "      <th>BA</th>\n",
       "      <th>CAT</th>\n",
       "      <th>CVX</th>\n",
       "      <th>DIS</th>\n",
       "      <th>IBM</th>\n",
       "      <th>INTC</th>\n",
       "      <th>JNJ</th>\n",
       "      <th>JPM</th>\n",
       "      <th>KO</th>\n",
       "      <th>...</th>\n",
       "      <th>MMM</th>\n",
       "      <th>MRK</th>\n",
       "      <th>PFE</th>\n",
       "      <th>PG</th>\n",
       "      <th>TRV</th>\n",
       "      <th>RTX</th>\n",
       "      <th>WBA</th>\n",
       "      <th>WMT</th>\n",
       "      <th>XOM</th>\n",
       "      <th>Risk_free</th>\n",
       "    </tr>\n",
       "  </thead>\n",
       "  <tbody>\n",
       "    <tr>\n",
       "      <th>0</th>\n",
       "      <td>-0.002915</td>\n",
       "      <td>0.050100</td>\n",
       "      <td>-0.014981</td>\n",
       "      <td>0.010949</td>\n",
       "      <td>0.047059</td>\n",
       "      <td>-0.053672</td>\n",
       "      <td>-0.089431</td>\n",
       "      <td>0.009616</td>\n",
       "      <td>0.050000</td>\n",
       "      <td>0.058334</td>\n",
       "      <td>...</td>\n",
       "      <td>-0.028148</td>\n",
       "      <td>0.040365</td>\n",
       "      <td>0.018987</td>\n",
       "      <td>0.011111</td>\n",
       "      <td>0.068396</td>\n",
       "      <td>-0.023323</td>\n",
       "      <td>0.078680</td>\n",
       "      <td>0.000000</td>\n",
       "      <td>-0.010417</td>\n",
       "      <td>0.000104</td>\n",
       "    </tr>\n",
       "    <tr>\n",
       "      <th>1</th>\n",
       "      <td>-0.032164</td>\n",
       "      <td>-0.045802</td>\n",
       "      <td>-0.030418</td>\n",
       "      <td>0.007220</td>\n",
       "      <td>0.011237</td>\n",
       "      <td>-0.062687</td>\n",
       "      <td>-0.008928</td>\n",
       "      <td>0.066666</td>\n",
       "      <td>-0.047619</td>\n",
       "      <td>0.102362</td>\n",
       "      <td>...</td>\n",
       "      <td>0.003049</td>\n",
       "      <td>0.050063</td>\n",
       "      <td>0.065217</td>\n",
       "      <td>-0.024176</td>\n",
       "      <td>0.086093</td>\n",
       "      <td>-0.023881</td>\n",
       "      <td>0.021177</td>\n",
       "      <td>-0.019231</td>\n",
       "      <td>0.057895</td>\n",
       "      <td>0.000104</td>\n",
       "    </tr>\n",
       "    <tr>\n",
       "      <th>2</th>\n",
       "      <td>0.042296</td>\n",
       "      <td>-0.034000</td>\n",
       "      <td>-0.007843</td>\n",
       "      <td>0.064516</td>\n",
       "      <td>-0.026985</td>\n",
       "      <td>0.129512</td>\n",
       "      <td>-0.009008</td>\n",
       "      <td>0.044643</td>\n",
       "      <td>0.010000</td>\n",
       "      <td>-0.021429</td>\n",
       "      <td>...</td>\n",
       "      <td>-0.063830</td>\n",
       "      <td>-0.029798</td>\n",
       "      <td>0.037901</td>\n",
       "      <td>-0.060811</td>\n",
       "      <td>0.079268</td>\n",
       "      <td>-0.067278</td>\n",
       "      <td>-0.078341</td>\n",
       "      <td>0.050421</td>\n",
       "      <td>0.024876</td>\n",
       "      <td>0.000104</td>\n",
       "    </tr>\n",
       "    <tr>\n",
       "      <th>3</th>\n",
       "      <td>0.066667</td>\n",
       "      <td>0.101449</td>\n",
       "      <td>0.094862</td>\n",
       "      <td>-0.037037</td>\n",
       "      <td>0.135400</td>\n",
       "      <td>-0.029135</td>\n",
       "      <td>-0.040910</td>\n",
       "      <td>0.071225</td>\n",
       "      <td>0.092409</td>\n",
       "      <td>-0.009124</td>\n",
       "      <td>...</td>\n",
       "      <td>-0.025974</td>\n",
       "      <td>0.060197</td>\n",
       "      <td>0.123596</td>\n",
       "      <td>0.033573</td>\n",
       "      <td>0.047081</td>\n",
       "      <td>0.147541</td>\n",
       "      <td>0.150000</td>\n",
       "      <td>0.117333</td>\n",
       "      <td>0.048544</td>\n",
       "      <td>0.000104</td>\n",
       "    </tr>\n",
       "    <tr>\n",
       "      <th>4</th>\n",
       "      <td>0.032609</td>\n",
       "      <td>0.009398</td>\n",
       "      <td>-0.043321</td>\n",
       "      <td>0.045455</td>\n",
       "      <td>0.079023</td>\n",
       "      <td>-0.003872</td>\n",
       "      <td>-0.014217</td>\n",
       "      <td>-0.013298</td>\n",
       "      <td>-0.003021</td>\n",
       "      <td>0.022099</td>\n",
       "      <td>...</td>\n",
       "      <td>0.040000</td>\n",
       "      <td>0.044032</td>\n",
       "      <td>-0.010000</td>\n",
       "      <td>0.041763</td>\n",
       "      <td>0.043165</td>\n",
       "      <td>-0.051429</td>\n",
       "      <td>-0.039130</td>\n",
       "      <td>0.042959</td>\n",
       "      <td>-0.002315</td>\n",
       "      <td>0.000104</td>\n",
       "    </tr>\n",
       "    <tr>\n",
       "      <th>...</th>\n",
       "      <td>...</td>\n",
       "      <td>...</td>\n",
       "      <td>...</td>\n",
       "      <td>...</td>\n",
       "      <td>...</td>\n",
       "      <td>...</td>\n",
       "      <td>...</td>\n",
       "      <td>...</td>\n",
       "      <td>...</td>\n",
       "      <td>...</td>\n",
       "      <td>...</td>\n",
       "      <td>...</td>\n",
       "      <td>...</td>\n",
       "      <td>...</td>\n",
       "      <td>...</td>\n",
       "      <td>...</td>\n",
       "      <td>...</td>\n",
       "      <td>...</td>\n",
       "      <td>...</td>\n",
       "      <td>...</td>\n",
       "      <td>...</td>\n",
       "    </tr>\n",
       "    <tr>\n",
       "      <th>438</th>\n",
       "      <td>-0.026799</td>\n",
       "      <td>-0.030819</td>\n",
       "      <td>0.019927</td>\n",
       "      <td>-0.049504</td>\n",
       "      <td>0.029997</td>\n",
       "      <td>0.003287</td>\n",
       "      <td>0.006329</td>\n",
       "      <td>0.005401</td>\n",
       "      <td>0.053828</td>\n",
       "      <td>-0.012625</td>\n",
       "      <td>...</td>\n",
       "      <td>-0.016166</td>\n",
       "      <td>-0.007545</td>\n",
       "      <td>0.076150</td>\n",
       "      <td>0.001125</td>\n",
       "      <td>0.072455</td>\n",
       "      <td>-0.025187</td>\n",
       "      <td>0.076352</td>\n",
       "      <td>0.038934</td>\n",
       "      <td>-0.052979</td>\n",
       "      <td>0.000104</td>\n",
       "    </tr>\n",
       "    <tr>\n",
       "      <th>439</th>\n",
       "      <td>0.009460</td>\n",
       "      <td>0.002005</td>\n",
       "      <td>-0.089629</td>\n",
       "      <td>0.048362</td>\n",
       "      <td>-0.066906</td>\n",
       "      <td>-0.012844</td>\n",
       "      <td>-0.014428</td>\n",
       "      <td>-0.067175</td>\n",
       "      <td>0.023382</td>\n",
       "      <td>-0.068194</td>\n",
       "      <td>...</td>\n",
       "      <td>-0.099209</td>\n",
       "      <td>-0.015467</td>\n",
       "      <td>-0.066421</td>\n",
       "      <td>-0.018189</td>\n",
       "      <td>-0.048212</td>\n",
       "      <td>0.014158</td>\n",
       "      <td>-0.072906</td>\n",
       "      <td>-0.058879</td>\n",
       "      <td>0.078870</td>\n",
       "      <td>0.000104</td>\n",
       "    </tr>\n",
       "    <tr>\n",
       "      <th>440</th>\n",
       "      <td>0.037307</td>\n",
       "      <td>-0.058698</td>\n",
       "      <td>0.062718</td>\n",
       "      <td>0.128536</td>\n",
       "      <td>-0.000591</td>\n",
       "      <td>-0.133962</td>\n",
       "      <td>-0.080330</td>\n",
       "      <td>0.008545</td>\n",
       "      <td>0.037876</td>\n",
       "      <td>0.074328</td>\n",
       "      <td>...</td>\n",
       "      <td>0.018584</td>\n",
       "      <td>0.172281</td>\n",
       "      <td>0.016973</td>\n",
       "      <td>0.022818</td>\n",
       "      <td>0.058351</td>\n",
       "      <td>0.033737</td>\n",
       "      <td>-0.000638</td>\n",
       "      <td>0.072033</td>\n",
       "      <td>0.096056</td>\n",
       "      <td>0.000104</td>\n",
       "    </tr>\n",
       "    <tr>\n",
       "      <th>441</th>\n",
       "      <td>-0.123605</td>\n",
       "      <td>-0.044341</td>\n",
       "      <td>-0.052252</td>\n",
       "      <td>-0.014150</td>\n",
       "      <td>-0.142959</td>\n",
       "      <td>-0.013564</td>\n",
       "      <td>0.004082</td>\n",
       "      <td>-0.042670</td>\n",
       "      <td>-0.065101</td>\n",
       "      <td>-0.069541</td>\n",
       "      <td>...</td>\n",
       "      <td>-0.048355</td>\n",
       "      <td>-0.149233</td>\n",
       "      <td>0.228395</td>\n",
       "      <td>0.011120</td>\n",
       "      <td>-0.086586</td>\n",
       "      <td>-0.089354</td>\n",
       "      <td>-0.047214</td>\n",
       "      <td>-0.058827</td>\n",
       "      <td>-0.071816</td>\n",
       "      <td>0.000104</td>\n",
       "    </tr>\n",
       "    <tr>\n",
       "      <th>442</th>\n",
       "      <td>0.074196</td>\n",
       "      <td>0.017539</td>\n",
       "      <td>0.069253</td>\n",
       "      <td>0.039692</td>\n",
       "      <td>0.068944</td>\n",
       "      <td>-0.010668</td>\n",
       "      <td>0.046748</td>\n",
       "      <td>0.097095</td>\n",
       "      <td>-0.003022</td>\n",
       "      <td>0.128885</td>\n",
       "      <td>...</td>\n",
       "      <td>0.044637</td>\n",
       "      <td>0.023094</td>\n",
       "      <td>0.099014</td>\n",
       "      <td>0.131415</td>\n",
       "      <td>0.064512</td>\n",
       "      <td>0.063520</td>\n",
       "      <td>0.164286</td>\n",
       "      <td>0.028870</td>\n",
       "      <td>0.022560</td>\n",
       "      <td>0.000104</td>\n",
       "    </tr>\n",
       "  </tbody>\n",
       "</table>\n",
       "<p>443 rows × 21 columns</p>\n",
       "</div>"
      ],
      "text/plain": [
       "          AXP        BA       CAT       CVX       DIS       IBM      INTC  \\\n",
       "0   -0.002915  0.050100 -0.014981  0.010949  0.047059 -0.053672 -0.089431   \n",
       "1   -0.032164 -0.045802 -0.030418  0.007220  0.011237 -0.062687 -0.008928   \n",
       "2    0.042296 -0.034000 -0.007843  0.064516 -0.026985  0.129512 -0.009008   \n",
       "3    0.066667  0.101449  0.094862 -0.037037  0.135400 -0.029135 -0.040910   \n",
       "4    0.032609  0.009398 -0.043321  0.045455  0.079023 -0.003872 -0.014217   \n",
       "..        ...       ...       ...       ...       ...       ...       ...   \n",
       "438 -0.026799 -0.030819  0.019927 -0.049504  0.029997  0.003287  0.006329   \n",
       "439  0.009460  0.002005 -0.089629  0.048362 -0.066906 -0.012844 -0.014428   \n",
       "440  0.037307 -0.058698  0.062718  0.128536 -0.000591 -0.133962 -0.080330   \n",
       "441 -0.123605 -0.044341 -0.052252 -0.014150 -0.142959 -0.013564  0.004082   \n",
       "442  0.074196  0.017539  0.069253  0.039692  0.068944 -0.010668  0.046748   \n",
       "\n",
       "          JNJ       JPM        KO  ...       MMM       MRK       PFE  \\\n",
       "0    0.009616  0.050000  0.058334  ... -0.028148  0.040365  0.018987   \n",
       "1    0.066666 -0.047619  0.102362  ...  0.003049  0.050063  0.065217   \n",
       "2    0.044643  0.010000 -0.021429  ... -0.063830 -0.029798  0.037901   \n",
       "3    0.071225  0.092409 -0.009124  ... -0.025974  0.060197  0.123596   \n",
       "4   -0.013298 -0.003021  0.022099  ...  0.040000  0.044032 -0.010000   \n",
       "..        ...       ...       ...  ...       ...       ...       ...   \n",
       "438  0.005401  0.053828 -0.012625  ... -0.016166 -0.007545  0.076150   \n",
       "439 -0.067175  0.023382 -0.068194  ... -0.099209 -0.015467 -0.066421   \n",
       "440  0.008545  0.037876  0.074328  ...  0.018584  0.172281  0.016973   \n",
       "441 -0.042670 -0.065101 -0.069541  ... -0.048355 -0.149233  0.228395   \n",
       "442  0.097095 -0.003022  0.128885  ...  0.044637  0.023094  0.099014   \n",
       "\n",
       "           PG       TRV       RTX       WBA       WMT       XOM  Risk_free  \n",
       "0    0.011111  0.068396 -0.023323  0.078680  0.000000 -0.010417   0.000104  \n",
       "1   -0.024176  0.086093 -0.023881  0.021177 -0.019231  0.057895   0.000104  \n",
       "2   -0.060811  0.079268 -0.067278 -0.078341  0.050421  0.024876   0.000104  \n",
       "3    0.033573  0.047081  0.147541  0.150000  0.117333  0.048544   0.000104  \n",
       "4    0.041763  0.043165 -0.051429 -0.039130  0.042959 -0.002315   0.000104  \n",
       "..        ...       ...       ...       ...       ...       ...        ...  \n",
       "438  0.001125  0.072455 -0.025187  0.076352  0.038934 -0.052979   0.000104  \n",
       "439 -0.018189 -0.048212  0.014158 -0.072906 -0.058879  0.078870   0.000104  \n",
       "440  0.022818  0.058351  0.033737 -0.000638  0.072033  0.096056   0.000104  \n",
       "441  0.011120 -0.086586 -0.089354 -0.047214 -0.058827 -0.071816   0.000104  \n",
       "442  0.131415  0.064512  0.063520  0.164286  0.028870  0.022560   0.000104  \n",
       "\n",
       "[443 rows x 21 columns]"
      ]
     },
     "execution_count": 7,
     "metadata": {},
     "output_type": "execute_result"
    }
   ],
   "source": [
    "tickers = ['AXP', 'BA', 'CAT', 'CVX', 'DIS', 'IBM', 'INTC', 'JNJ', 'JPM', 'KO',\n",
    "           'MCD', 'MMM', 'MRK', 'PFE', 'PG', 'TRV', 'RTX', 'WBA', 'WMT', 'XOM']\n",
    "rs_rate = 0.015\n",
    "df = pd.DataFrame()\n",
    "\n",
    "for ticker in tickers:\n",
    "    yahoo_financials = YahooFinancials(ticker)\n",
    "    yahoo_data = yahoo_financials.get_historical_price_data(start_date='1978-01-01',\n",
    "                                                            end_date='2021-12-31',\n",
    "                                                            time_interval='monthly')\n",
    "    temp_df = pd.DataFrame(yahoo_data[ticker]['prices'])\n",
    "\n",
    "    df[ticker] = cont_comp_returns(temp_df['close'])\n",
    "df['Risk_free'] = np.ones(df.shape[0]) * np.power(1 + rs_rate/12, 1/12) - 1\n",
    "df.to_csv('tickers_close_prices.csv')\n",
    "df"
   ]
  },
  {
   "cell_type": "code",
   "execution_count": 8,
   "metadata": {},
   "outputs": [],
   "source": [
    "df = pd.read_csv('tickers_close_prices.csv')"
   ]
  },
  {
   "cell_type": "code",
   "execution_count": 238,
   "metadata": {
    "collapsed": false,
    "pycharm": {
     "name": "#%%\n"
    }
   },
   "outputs": [],
   "source": [
    "def calc_weights(window, strategy, rf, ra, num_assets):\n",
    "    if strategy == 'TAN':\n",
    "        return TAN(window, rf, ra)\n",
    "    elif strategy == 'GMV':\n",
    "        return GMV(window, rf, num_assets)\n",
    "    elif strategy == 'RP':\n",
    "        return RP(window)\n",
    "    elif strategy == 'EW':\n",
    "        return EW(num_assets)\n",
    "\n",
    "\n",
    "def run_strategy(strategy, stocks, rf=0.015, ra=10):\n",
    "    start = 12 * 10\n",
    "    end = len(stocks)\n",
    "    profits = []\n",
    "    final_profit = 1\n",
    "    for t in tqdm(np.arange(start, end, 1)):\n",
    "\n",
    "        stat_window = stocks.iloc[t - start: t, :]\n",
    "        weights = calc_weights(stat_window, strategy, rf, ra, 21)\n",
    "        month_return = (stocks.iloc[t, :] * weights).sum()\n",
    "        final_profit = final_profit * (1 + month_return)\n",
    "        profits.append(month_return)\n",
    "    return profits, final_profit\n",
    "\n",
    "\n",
    "def TAN(window, rf, ra):\n",
    "\n",
    "    mu = window.iloc[:, :20].mean()\n",
    "    cov1 = np.cov(window.iloc[:, :20].T)\n",
    "    R0 = np.ones(20) * rf\n",
    "    wtan = np.linalg.inv(cov1) @ (mu - R0)\n",
    "    wtan = np.where(wtan > 0, wtan, 0)\n",
    "    C = wtan.sum()\n",
    "    wtan = wtan/C\n",
    "    wa = (C/ra) * wtan\n",
    "    w0 = 1 - C/ra\n",
    "    wa = np.append(wa, w0)\n",
    "    wa = np.where(wa > 0, wa, 0)\n",
    "    wa = wa/wa.sum()\n",
    "    return wa\n",
    "\n",
    "\n",
    "def EW(num_assets):\n",
    "    return 1/num_assets * np.ones(num_assets)\n",
    "\n",
    "\n",
    "def GMV(window, rf, num_assets):\n",
    "    np.random.seed(42)\n",
    "    num_ports = 1500\n",
    "    all_weights = np.zeros((num_ports, num_assets + 1))\n",
    "    ret_arr = np.zeros(num_ports)\n",
    "    std_arr = np.zeros(num_ports)\n",
    "\n",
    "    for x in range(num_ports):\n",
    "    # Weights\n",
    "        weights = np.array(np.random.random(num_assets + 1))\n",
    "        weights = weights/np.sum(weights)\n",
    "    # Save weights\n",
    "        all_weights[x, :] = weights\n",
    "    # Expected return\n",
    "        ret_arr[x] = (window.mean() * weights).sum()\n",
    "    # Expected volatility\n",
    "        std_arr[x] = (np.dot(weights.T, np.dot(window.cov(), weights)))\n",
    "\n",
    "    gmv_weights_idx = std_arr.argmin()\n",
    "    gmv_weights = all_weights[gmv_weights_idx]\n",
    "\n",
    "    return gmv_weights\n",
    "\n",
    "\n",
    "def RP(window):\n",
    "    std_arr = window.iloc[:, :20].std()\n",
    "    weights = (np.ones(20) / std_arr)\n",
    "    weights = weights / weights.sum()\n",
    "    weights = np.append(weights, 0)\n",
    "    return weights\n"
   ]
  },
  {
   "cell_type": "code",
   "execution_count": 242,
   "metadata": {
    "collapsed": false,
    "pycharm": {
     "name": "#%%\n"
    }
   },
   "outputs": [
    {
     "name": "stderr",
     "output_type": "stream",
     "text": [
      "100%|██████████| 323/323 [00:00<00:00, 443.09it/s]"
     ]
    },
    {
     "name": "stdout",
     "output_type": "stream",
     "text": [
      "11.22676845849011\n"
     ]
    },
    {
     "name": "stderr",
     "output_type": "stream",
     "text": [
      "\n"
     ]
    }
   ],
   "source": [
    "profits, final_profit  = run_strategy('TAN', df, 0.015, 5)\n",
    "print(final_profit)\n"
   ]
  },
  {
   "cell_type": "code",
   "execution_count": 243,
   "metadata": {
    "collapsed": false,
    "pycharm": {
     "name": "#%%\n"
    }
   },
   "outputs": [
    {
     "name": "stderr",
     "output_type": "stream",
     "text": [
      "  0%|          | 0/323 [00:00<?, ?it/s]\n"
     ]
    },
    {
     "ename": "ValueError",
     "evalue": "operands could not be broadcast together with shapes (21,) (22,) ",
     "output_type": "error",
     "traceback": [
      "\u001b[0;31m---------------------------------------------------------------------------\u001b[0m",
      "\u001b[0;31mValueError\u001b[0m                                Traceback (most recent call last)",
      "\u001b[0;32m/var/folders/qb/q_vxkv3s4317zhpbj7wjns0m0000gn/T/ipykernel_25757/2824014007.py\u001b[0m in \u001b[0;36m<module>\u001b[0;34m\u001b[0m\n\u001b[0;32m----> 1\u001b[0;31m \u001b[0mprofits\u001b[0m\u001b[0;34m,\u001b[0m \u001b[0mfinal_profit\u001b[0m  \u001b[0;34m=\u001b[0m \u001b[0mrun_strategy\u001b[0m\u001b[0;34m(\u001b[0m\u001b[0;34m'GMV'\u001b[0m\u001b[0;34m,\u001b[0m \u001b[0mdf\u001b[0m\u001b[0;34m,\u001b[0m \u001b[0;36m0.015\u001b[0m\u001b[0;34m,\u001b[0m \u001b[0;36m5\u001b[0m\u001b[0;34m)\u001b[0m\u001b[0;34m\u001b[0m\u001b[0;34m\u001b[0m\u001b[0m\n\u001b[0m\u001b[1;32m      2\u001b[0m \u001b[0mprint\u001b[0m\u001b[0;34m(\u001b[0m\u001b[0mfinal_profit\u001b[0m\u001b[0;34m)\u001b[0m\u001b[0;34m\u001b[0m\u001b[0;34m\u001b[0m\u001b[0m\n",
      "\u001b[0;32m/var/folders/qb/q_vxkv3s4317zhpbj7wjns0m0000gn/T/ipykernel_25757/2132527072.py\u001b[0m in \u001b[0;36mrun_strategy\u001b[0;34m(strategy, stocks, rf, ra)\u001b[0m\n\u001b[1;32m     19\u001b[0m         \u001b[0mstat_window\u001b[0m \u001b[0;34m=\u001b[0m \u001b[0mstocks\u001b[0m\u001b[0;34m.\u001b[0m\u001b[0miloc\u001b[0m\u001b[0;34m[\u001b[0m\u001b[0mt\u001b[0m \u001b[0;34m-\u001b[0m \u001b[0mstart\u001b[0m \u001b[0;34m:\u001b[0m \u001b[0mt\u001b[0m\u001b[0;34m,\u001b[0m \u001b[0;34m:\u001b[0m\u001b[0;34m]\u001b[0m\u001b[0;34m\u001b[0m\u001b[0;34m\u001b[0m\u001b[0m\n\u001b[1;32m     20\u001b[0m         \u001b[0;31m#print(stat_window)\u001b[0m\u001b[0;34m\u001b[0m\u001b[0;34m\u001b[0m\u001b[0;34m\u001b[0m\u001b[0m\n\u001b[0;32m---> 21\u001b[0;31m         \u001b[0mweights\u001b[0m \u001b[0;34m=\u001b[0m \u001b[0mcalc_weights\u001b[0m\u001b[0;34m(\u001b[0m\u001b[0mstat_window\u001b[0m\u001b[0;34m,\u001b[0m \u001b[0mstrategy\u001b[0m\u001b[0;34m,\u001b[0m \u001b[0mrf\u001b[0m\u001b[0;34m,\u001b[0m \u001b[0mra\u001b[0m\u001b[0;34m,\u001b[0m \u001b[0;36m21\u001b[0m\u001b[0;34m)\u001b[0m\u001b[0;34m\u001b[0m\u001b[0;34m\u001b[0m\u001b[0m\n\u001b[0m\u001b[1;32m     22\u001b[0m         \u001b[0;31m#print( stat_window.shape)\u001b[0m\u001b[0;34m\u001b[0m\u001b[0;34m\u001b[0m\u001b[0;34m\u001b[0m\u001b[0m\n\u001b[1;32m     23\u001b[0m         \u001b[0;31m#print(weights.sum())\u001b[0m\u001b[0;34m\u001b[0m\u001b[0;34m\u001b[0m\u001b[0;34m\u001b[0m\u001b[0m\n",
      "\u001b[0;32m/var/folders/qb/q_vxkv3s4317zhpbj7wjns0m0000gn/T/ipykernel_25757/2132527072.py\u001b[0m in \u001b[0;36mcalc_weights\u001b[0;34m(window, strategy, rf, ra, num_assets)\u001b[0m\n\u001b[1;32m      3\u001b[0m         \u001b[0;32mreturn\u001b[0m \u001b[0mTAN\u001b[0m\u001b[0;34m(\u001b[0m\u001b[0mwindow\u001b[0m\u001b[0;34m,\u001b[0m \u001b[0mrf\u001b[0m\u001b[0;34m,\u001b[0m \u001b[0mra\u001b[0m \u001b[0;34m)\u001b[0m\u001b[0;34m\u001b[0m\u001b[0;34m\u001b[0m\u001b[0m\n\u001b[1;32m      4\u001b[0m     \u001b[0;32melif\u001b[0m \u001b[0mstrategy\u001b[0m \u001b[0;34m==\u001b[0m \u001b[0;34m'GMV'\u001b[0m\u001b[0;34m:\u001b[0m\u001b[0;34m\u001b[0m\u001b[0;34m\u001b[0m\u001b[0m\n\u001b[0;32m----> 5\u001b[0;31m         \u001b[0;32mreturn\u001b[0m \u001b[0mGMV\u001b[0m\u001b[0;34m(\u001b[0m\u001b[0mwindow\u001b[0m\u001b[0;34m,\u001b[0m \u001b[0mrf\u001b[0m\u001b[0;34m,\u001b[0m \u001b[0mnum_assets\u001b[0m\u001b[0;34m)\u001b[0m\u001b[0;34m\u001b[0m\u001b[0;34m\u001b[0m\u001b[0m\n\u001b[0m\u001b[1;32m      6\u001b[0m     \u001b[0;32melif\u001b[0m \u001b[0mstrategy\u001b[0m \u001b[0;34m==\u001b[0m \u001b[0;34m'RP'\u001b[0m\u001b[0;34m:\u001b[0m\u001b[0;34m\u001b[0m\u001b[0;34m\u001b[0m\u001b[0m\n\u001b[1;32m      7\u001b[0m         \u001b[0;32mreturn\u001b[0m \u001b[0mRP\u001b[0m\u001b[0;34m(\u001b[0m\u001b[0mwindow\u001b[0m\u001b[0;34m)\u001b[0m\u001b[0;34m\u001b[0m\u001b[0;34m\u001b[0m\u001b[0m\n",
      "\u001b[0;32m/var/folders/qb/q_vxkv3s4317zhpbj7wjns0m0000gn/T/ipykernel_25757/2132527072.py\u001b[0m in \u001b[0;36mGMV\u001b[0;34m(window, rf, num_assets)\u001b[0m\n\u001b[1;32m     68\u001b[0m         \u001b[0mall_weights\u001b[0m\u001b[0;34m[\u001b[0m\u001b[0mx\u001b[0m\u001b[0;34m,\u001b[0m\u001b[0;34m:\u001b[0m\u001b[0;34m]\u001b[0m \u001b[0;34m=\u001b[0m \u001b[0mweights\u001b[0m\u001b[0;34m\u001b[0m\u001b[0;34m\u001b[0m\u001b[0m\n\u001b[1;32m     69\u001b[0m     \u001b[0;31m# Expected return\u001b[0m\u001b[0;34m\u001b[0m\u001b[0;34m\u001b[0m\u001b[0;34m\u001b[0m\u001b[0m\n\u001b[0;32m---> 70\u001b[0;31m         \u001b[0mret_arr\u001b[0m\u001b[0;34m[\u001b[0m\u001b[0mx\u001b[0m\u001b[0;34m]\u001b[0m \u001b[0;34m=\u001b[0m \u001b[0;34m(\u001b[0m\u001b[0mwindow\u001b[0m\u001b[0;34m.\u001b[0m\u001b[0mmean\u001b[0m\u001b[0;34m(\u001b[0m\u001b[0;34m)\u001b[0m \u001b[0;34m*\u001b[0m \u001b[0mweights\u001b[0m\u001b[0;34m)\u001b[0m\u001b[0;34m.\u001b[0m\u001b[0msum\u001b[0m\u001b[0;34m(\u001b[0m\u001b[0;34m)\u001b[0m\u001b[0;34m\u001b[0m\u001b[0;34m\u001b[0m\u001b[0m\n\u001b[0m\u001b[1;32m     71\u001b[0m     \u001b[0;31m# Expected volatility\u001b[0m\u001b[0;34m\u001b[0m\u001b[0;34m\u001b[0m\u001b[0;34m\u001b[0m\u001b[0m\n\u001b[1;32m     72\u001b[0m         \u001b[0mstd_arr\u001b[0m\u001b[0;34m[\u001b[0m\u001b[0mx\u001b[0m\u001b[0;34m]\u001b[0m \u001b[0;34m=\u001b[0m \u001b[0;34m(\u001b[0m\u001b[0mnp\u001b[0m\u001b[0;34m.\u001b[0m\u001b[0mdot\u001b[0m\u001b[0;34m(\u001b[0m\u001b[0mweights\u001b[0m\u001b[0;34m.\u001b[0m\u001b[0mT\u001b[0m\u001b[0;34m,\u001b[0m \u001b[0mnp\u001b[0m\u001b[0;34m.\u001b[0m\u001b[0mdot\u001b[0m\u001b[0;34m(\u001b[0m\u001b[0mwindow\u001b[0m\u001b[0;34m.\u001b[0m\u001b[0mcov\u001b[0m\u001b[0;34m(\u001b[0m\u001b[0;34m)\u001b[0m \u001b[0;34m,\u001b[0m \u001b[0mweights\u001b[0m\u001b[0;34m)\u001b[0m\u001b[0;34m)\u001b[0m\u001b[0;34m)\u001b[0m\u001b[0;34m\u001b[0m\u001b[0;34m\u001b[0m\u001b[0m\n",
      "\u001b[0;32m~/opt/anaconda3/lib/python3.8/site-packages/pandas/core/ops/common.py\u001b[0m in \u001b[0;36mnew_method\u001b[0;34m(self, other)\u001b[0m\n\u001b[1;32m     63\u001b[0m         \u001b[0mother\u001b[0m \u001b[0;34m=\u001b[0m \u001b[0mitem_from_zerodim\u001b[0m\u001b[0;34m(\u001b[0m\u001b[0mother\u001b[0m\u001b[0;34m)\u001b[0m\u001b[0;34m\u001b[0m\u001b[0;34m\u001b[0m\u001b[0m\n\u001b[1;32m     64\u001b[0m \u001b[0;34m\u001b[0m\u001b[0m\n\u001b[0;32m---> 65\u001b[0;31m         \u001b[0;32mreturn\u001b[0m \u001b[0mmethod\u001b[0m\u001b[0;34m(\u001b[0m\u001b[0mself\u001b[0m\u001b[0;34m,\u001b[0m \u001b[0mother\u001b[0m\u001b[0;34m)\u001b[0m\u001b[0;34m\u001b[0m\u001b[0;34m\u001b[0m\u001b[0m\n\u001b[0m\u001b[1;32m     66\u001b[0m \u001b[0;34m\u001b[0m\u001b[0m\n\u001b[1;32m     67\u001b[0m     \u001b[0;32mreturn\u001b[0m \u001b[0mnew_method\u001b[0m\u001b[0;34m\u001b[0m\u001b[0;34m\u001b[0m\u001b[0m\n",
      "\u001b[0;32m~/opt/anaconda3/lib/python3.8/site-packages/pandas/core/ops/__init__.py\u001b[0m in \u001b[0;36mwrapper\u001b[0;34m(left, right)\u001b[0m\n\u001b[1;32m    341\u001b[0m         \u001b[0mlvalues\u001b[0m \u001b[0;34m=\u001b[0m \u001b[0mextract_array\u001b[0m\u001b[0;34m(\u001b[0m\u001b[0mleft\u001b[0m\u001b[0;34m,\u001b[0m \u001b[0mextract_numpy\u001b[0m\u001b[0;34m=\u001b[0m\u001b[0;32mTrue\u001b[0m\u001b[0;34m)\u001b[0m\u001b[0;34m\u001b[0m\u001b[0;34m\u001b[0m\u001b[0m\n\u001b[1;32m    342\u001b[0m         \u001b[0mrvalues\u001b[0m \u001b[0;34m=\u001b[0m \u001b[0mextract_array\u001b[0m\u001b[0;34m(\u001b[0m\u001b[0mright\u001b[0m\u001b[0;34m,\u001b[0m \u001b[0mextract_numpy\u001b[0m\u001b[0;34m=\u001b[0m\u001b[0;32mTrue\u001b[0m\u001b[0;34m)\u001b[0m\u001b[0;34m\u001b[0m\u001b[0;34m\u001b[0m\u001b[0m\n\u001b[0;32m--> 343\u001b[0;31m         \u001b[0mresult\u001b[0m \u001b[0;34m=\u001b[0m \u001b[0marithmetic_op\u001b[0m\u001b[0;34m(\u001b[0m\u001b[0mlvalues\u001b[0m\u001b[0;34m,\u001b[0m \u001b[0mrvalues\u001b[0m\u001b[0;34m,\u001b[0m \u001b[0mop\u001b[0m\u001b[0;34m)\u001b[0m\u001b[0;34m\u001b[0m\u001b[0;34m\u001b[0m\u001b[0m\n\u001b[0m\u001b[1;32m    344\u001b[0m \u001b[0;34m\u001b[0m\u001b[0m\n\u001b[1;32m    345\u001b[0m         \u001b[0;32mreturn\u001b[0m \u001b[0mleft\u001b[0m\u001b[0;34m.\u001b[0m\u001b[0m_construct_result\u001b[0m\u001b[0;34m(\u001b[0m\u001b[0mresult\u001b[0m\u001b[0;34m,\u001b[0m \u001b[0mname\u001b[0m\u001b[0;34m=\u001b[0m\u001b[0mres_name\u001b[0m\u001b[0;34m)\u001b[0m\u001b[0;34m\u001b[0m\u001b[0;34m\u001b[0m\u001b[0m\n",
      "\u001b[0;32m~/opt/anaconda3/lib/python3.8/site-packages/pandas/core/ops/array_ops.py\u001b[0m in \u001b[0;36marithmetic_op\u001b[0;34m(left, right, op)\u001b[0m\n\u001b[1;32m    188\u001b[0m     \u001b[0;32melse\u001b[0m\u001b[0;34m:\u001b[0m\u001b[0;34m\u001b[0m\u001b[0;34m\u001b[0m\u001b[0m\n\u001b[1;32m    189\u001b[0m         \u001b[0;32mwith\u001b[0m \u001b[0mnp\u001b[0m\u001b[0;34m.\u001b[0m\u001b[0merrstate\u001b[0m\u001b[0;34m(\u001b[0m\u001b[0mall\u001b[0m\u001b[0;34m=\u001b[0m\u001b[0;34m\"ignore\"\u001b[0m\u001b[0;34m)\u001b[0m\u001b[0;34m:\u001b[0m\u001b[0;34m\u001b[0m\u001b[0;34m\u001b[0m\u001b[0m\n\u001b[0;32m--> 190\u001b[0;31m             \u001b[0mres_values\u001b[0m \u001b[0;34m=\u001b[0m \u001b[0mna_arithmetic_op\u001b[0m\u001b[0;34m(\u001b[0m\u001b[0mlvalues\u001b[0m\u001b[0;34m,\u001b[0m \u001b[0mrvalues\u001b[0m\u001b[0;34m,\u001b[0m \u001b[0mop\u001b[0m\u001b[0;34m)\u001b[0m\u001b[0;34m\u001b[0m\u001b[0;34m\u001b[0m\u001b[0m\n\u001b[0m\u001b[1;32m    191\u001b[0m \u001b[0;34m\u001b[0m\u001b[0m\n\u001b[1;32m    192\u001b[0m     \u001b[0;32mreturn\u001b[0m \u001b[0mres_values\u001b[0m\u001b[0;34m\u001b[0m\u001b[0;34m\u001b[0m\u001b[0m\n",
      "\u001b[0;32m~/opt/anaconda3/lib/python3.8/site-packages/pandas/core/ops/array_ops.py\u001b[0m in \u001b[0;36mna_arithmetic_op\u001b[0;34m(left, right, op, is_cmp)\u001b[0m\n\u001b[1;32m    141\u001b[0m \u001b[0;34m\u001b[0m\u001b[0m\n\u001b[1;32m    142\u001b[0m     \u001b[0;32mtry\u001b[0m\u001b[0;34m:\u001b[0m\u001b[0;34m\u001b[0m\u001b[0;34m\u001b[0m\u001b[0m\n\u001b[0;32m--> 143\u001b[0;31m         \u001b[0mresult\u001b[0m \u001b[0;34m=\u001b[0m \u001b[0mexpressions\u001b[0m\u001b[0;34m.\u001b[0m\u001b[0mevaluate\u001b[0m\u001b[0;34m(\u001b[0m\u001b[0mop\u001b[0m\u001b[0;34m,\u001b[0m \u001b[0mleft\u001b[0m\u001b[0;34m,\u001b[0m \u001b[0mright\u001b[0m\u001b[0;34m)\u001b[0m\u001b[0;34m\u001b[0m\u001b[0;34m\u001b[0m\u001b[0m\n\u001b[0m\u001b[1;32m    144\u001b[0m     \u001b[0;32mexcept\u001b[0m \u001b[0mTypeError\u001b[0m\u001b[0;34m:\u001b[0m\u001b[0;34m\u001b[0m\u001b[0;34m\u001b[0m\u001b[0m\n\u001b[1;32m    145\u001b[0m         \u001b[0;32mif\u001b[0m \u001b[0mis_cmp\u001b[0m\u001b[0;34m:\u001b[0m\u001b[0;34m\u001b[0m\u001b[0;34m\u001b[0m\u001b[0m\n",
      "\u001b[0;32m~/opt/anaconda3/lib/python3.8/site-packages/pandas/core/computation/expressions.py\u001b[0m in \u001b[0;36mevaluate\u001b[0;34m(op, a, b, use_numexpr)\u001b[0m\n\u001b[1;32m    231\u001b[0m         \u001b[0muse_numexpr\u001b[0m \u001b[0;34m=\u001b[0m \u001b[0muse_numexpr\u001b[0m \u001b[0;32mand\u001b[0m \u001b[0m_bool_arith_check\u001b[0m\u001b[0;34m(\u001b[0m\u001b[0mop_str\u001b[0m\u001b[0;34m,\u001b[0m \u001b[0ma\u001b[0m\u001b[0;34m,\u001b[0m \u001b[0mb\u001b[0m\u001b[0;34m)\u001b[0m\u001b[0;34m\u001b[0m\u001b[0;34m\u001b[0m\u001b[0m\n\u001b[1;32m    232\u001b[0m         \u001b[0;32mif\u001b[0m \u001b[0muse_numexpr\u001b[0m\u001b[0;34m:\u001b[0m\u001b[0;34m\u001b[0m\u001b[0;34m\u001b[0m\u001b[0m\n\u001b[0;32m--> 233\u001b[0;31m             \u001b[0;32mreturn\u001b[0m \u001b[0m_evaluate\u001b[0m\u001b[0;34m(\u001b[0m\u001b[0mop\u001b[0m\u001b[0;34m,\u001b[0m \u001b[0mop_str\u001b[0m\u001b[0;34m,\u001b[0m \u001b[0ma\u001b[0m\u001b[0;34m,\u001b[0m \u001b[0mb\u001b[0m\u001b[0;34m)\u001b[0m  \u001b[0;31m# type: ignore\u001b[0m\u001b[0;34m\u001b[0m\u001b[0;34m\u001b[0m\u001b[0m\n\u001b[0m\u001b[1;32m    234\u001b[0m     \u001b[0;32mreturn\u001b[0m \u001b[0m_evaluate_standard\u001b[0m\u001b[0;34m(\u001b[0m\u001b[0mop\u001b[0m\u001b[0;34m,\u001b[0m \u001b[0mop_str\u001b[0m\u001b[0;34m,\u001b[0m \u001b[0ma\u001b[0m\u001b[0;34m,\u001b[0m \u001b[0mb\u001b[0m\u001b[0;34m)\u001b[0m\u001b[0;34m\u001b[0m\u001b[0;34m\u001b[0m\u001b[0m\n\u001b[1;32m    235\u001b[0m \u001b[0;34m\u001b[0m\u001b[0m\n",
      "\u001b[0;32m~/opt/anaconda3/lib/python3.8/site-packages/pandas/core/computation/expressions.py\u001b[0m in \u001b[0;36m_evaluate_numexpr\u001b[0;34m(op, op_str, a, b)\u001b[0m\n\u001b[1;32m    117\u001b[0m \u001b[0;34m\u001b[0m\u001b[0m\n\u001b[1;32m    118\u001b[0m     \u001b[0;32mif\u001b[0m \u001b[0mresult\u001b[0m \u001b[0;32mis\u001b[0m \u001b[0;32mNone\u001b[0m\u001b[0;34m:\u001b[0m\u001b[0;34m\u001b[0m\u001b[0;34m\u001b[0m\u001b[0m\n\u001b[0;32m--> 119\u001b[0;31m         \u001b[0mresult\u001b[0m \u001b[0;34m=\u001b[0m \u001b[0m_evaluate_standard\u001b[0m\u001b[0;34m(\u001b[0m\u001b[0mop\u001b[0m\u001b[0;34m,\u001b[0m \u001b[0mop_str\u001b[0m\u001b[0;34m,\u001b[0m \u001b[0ma\u001b[0m\u001b[0;34m,\u001b[0m \u001b[0mb\u001b[0m\u001b[0;34m)\u001b[0m\u001b[0;34m\u001b[0m\u001b[0;34m\u001b[0m\u001b[0m\n\u001b[0m\u001b[1;32m    120\u001b[0m \u001b[0;34m\u001b[0m\u001b[0m\n\u001b[1;32m    121\u001b[0m     \u001b[0;32mreturn\u001b[0m \u001b[0mresult\u001b[0m\u001b[0;34m\u001b[0m\u001b[0;34m\u001b[0m\u001b[0m\n",
      "\u001b[0;32m~/opt/anaconda3/lib/python3.8/site-packages/pandas/core/computation/expressions.py\u001b[0m in \u001b[0;36m_evaluate_standard\u001b[0;34m(op, op_str, a, b)\u001b[0m\n\u001b[1;32m     66\u001b[0m         \u001b[0m_store_test_result\u001b[0m\u001b[0;34m(\u001b[0m\u001b[0;32mFalse\u001b[0m\u001b[0;34m)\u001b[0m\u001b[0;34m\u001b[0m\u001b[0;34m\u001b[0m\u001b[0m\n\u001b[1;32m     67\u001b[0m     \u001b[0;32mwith\u001b[0m \u001b[0mnp\u001b[0m\u001b[0;34m.\u001b[0m\u001b[0merrstate\u001b[0m\u001b[0;34m(\u001b[0m\u001b[0mall\u001b[0m\u001b[0;34m=\u001b[0m\u001b[0;34m\"ignore\"\u001b[0m\u001b[0;34m)\u001b[0m\u001b[0;34m:\u001b[0m\u001b[0;34m\u001b[0m\u001b[0;34m\u001b[0m\u001b[0m\n\u001b[0;32m---> 68\u001b[0;31m         \u001b[0;32mreturn\u001b[0m \u001b[0mop\u001b[0m\u001b[0;34m(\u001b[0m\u001b[0ma\u001b[0m\u001b[0;34m,\u001b[0m \u001b[0mb\u001b[0m\u001b[0;34m)\u001b[0m\u001b[0;34m\u001b[0m\u001b[0;34m\u001b[0m\u001b[0m\n\u001b[0m\u001b[1;32m     69\u001b[0m \u001b[0;34m\u001b[0m\u001b[0m\n\u001b[1;32m     70\u001b[0m \u001b[0;34m\u001b[0m\u001b[0m\n",
      "\u001b[0;31mValueError\u001b[0m: operands could not be broadcast together with shapes (21,) (22,) "
     ]
    }
   ],
   "source": [
    "profits, final_profit  = run_strategy('GMV', df, 0.015, 5)\n",
    "print(final_profit)"
   ]
  },
  {
   "cell_type": "code",
   "execution_count": null,
   "metadata": {
    "collapsed": false,
    "pycharm": {
     "name": "#%%\n"
    }
   },
   "outputs": [],
   "source": []
  },
  {
   "cell_type": "code",
   "execution_count": 244,
   "metadata": {
    "collapsed": false,
    "pycharm": {
     "name": "#%%\n"
    }
   },
   "outputs": [
    {
     "name": "stderr",
     "output_type": "stream",
     "text": [
      "100%|██████████| 323/323 [00:00<00:00, 780.10it/s]"
     ]
    },
    {
     "name": "stdout",
     "output_type": "stream",
     "text": [
      "14.433390544501837\n"
     ]
    },
    {
     "name": "stderr",
     "output_type": "stream",
     "text": [
      "\n"
     ]
    }
   ],
   "source": [
    "profits, final_profit  = run_strategy('RP', df, 0.015, 5)\n",
    "print(final_profit)"
   ]
  },
  {
   "cell_type": "code",
   "execution_count": null,
   "metadata": {
    "collapsed": false,
    "pycharm": {
     "name": "#%%\n"
    }
   },
   "outputs": [],
   "source": []
  },
  {
   "cell_type": "code",
   "execution_count": 245,
   "metadata": {
    "collapsed": false,
    "pycharm": {
     "name": "#%%\n"
    }
   },
   "outputs": [
    {
     "name": "stderr",
     "output_type": "stream",
     "text": [
      "100%|██████████| 323/323 [00:00<00:00, 3225.45it/s]"
     ]
    },
    {
     "name": "stdout",
     "output_type": "stream",
     "text": [
      "14.254218895571565\n"
     ]
    },
    {
     "name": "stderr",
     "output_type": "stream",
     "text": [
      "\n"
     ]
    }
   ],
   "source": [
    "profits, final_profit  = run_strategy('EW', df, 0.015, 5)\n",
    "print(final_profit)"
   ]
  },
  {
   "cell_type": "code",
   "execution_count": null,
   "metadata": {
    "collapsed": false,
    "pycharm": {
     "name": "#%%\n"
    }
   },
   "outputs": [],
   "source": []
  },
  {
   "cell_type": "code",
   "execution_count": 241,
   "metadata": {
    "collapsed": false,
    "pycharm": {
     "name": "#%%\n"
    }
   },
   "outputs": [
    {
     "name": "stderr",
     "output_type": "stream",
     "text": [
      "100%|██████████| 323/323 [00:00<00:00, 405.32it/s]\n",
      "100%|██████████| 323/323 [00:00<00:00, 420.35it/s]\n",
      "100%|██████████| 323/323 [00:00<00:00, 439.33it/s]\n",
      "100%|██████████| 323/323 [00:00<00:00, 424.19it/s]\n",
      "100%|██████████| 323/323 [00:00<00:00, 473.17it/s]\n",
      " 22%|██▏       | 70/323 [00:00<00:00, 431.15it/s]\n"
     ]
    },
    {
     "ename": "KeyboardInterrupt",
     "evalue": "",
     "output_type": "error",
     "traceback": [
      "\u001b[0;31m---------------------------------------------------------------------------\u001b[0m",
      "\u001b[0;31mKeyboardInterrupt\u001b[0m                         Traceback (most recent call last)",
      "\u001b[0;32m/var/folders/qb/q_vxkv3s4317zhpbj7wjns0m0000gn/T/ipykernel_25757/723305525.py\u001b[0m in \u001b[0;36m<module>\u001b[0;34m\u001b[0m\n\u001b[1;32m      2\u001b[0m \u001b[0my\u001b[0m \u001b[0;34m=\u001b[0m \u001b[0;34m[\u001b[0m\u001b[0;34m]\u001b[0m\u001b[0;34m\u001b[0m\u001b[0;34m\u001b[0m\u001b[0m\n\u001b[1;32m      3\u001b[0m \u001b[0;32mfor\u001b[0m \u001b[0mi\u001b[0m \u001b[0;32min\u001b[0m \u001b[0mx\u001b[0m\u001b[0;34m:\u001b[0m\u001b[0;34m\u001b[0m\u001b[0;34m\u001b[0m\u001b[0m\n\u001b[0;32m----> 4\u001b[0;31m     \u001b[0mprofit\u001b[0m\u001b[0;34m,\u001b[0m\u001b[0mfinal_profit\u001b[0m \u001b[0;34m=\u001b[0m \u001b[0mrun_strategy\u001b[0m\u001b[0;34m(\u001b[0m\u001b[0;34m'TAN'\u001b[0m\u001b[0;34m,\u001b[0m \u001b[0mdf\u001b[0m\u001b[0;34m,\u001b[0m \u001b[0;36m0.015\u001b[0m\u001b[0;34m,\u001b[0m \u001b[0mi\u001b[0m\u001b[0;34m)\u001b[0m\u001b[0;34m\u001b[0m\u001b[0;34m\u001b[0m\u001b[0m\n\u001b[0m\u001b[1;32m      5\u001b[0m     \u001b[0my\u001b[0m\u001b[0;34m.\u001b[0m\u001b[0mappend\u001b[0m\u001b[0;34m(\u001b[0m\u001b[0mb\u001b[0m\u001b[0;34m)\u001b[0m\u001b[0;34m\u001b[0m\u001b[0;34m\u001b[0m\u001b[0m\n\u001b[1;32m      6\u001b[0m \u001b[0;34m\u001b[0m\u001b[0m\n",
      "\u001b[0;32m/var/folders/qb/q_vxkv3s4317zhpbj7wjns0m0000gn/T/ipykernel_25757/2132527072.py\u001b[0m in \u001b[0;36mrun_strategy\u001b[0;34m(strategy, stocks, rf, ra)\u001b[0m\n\u001b[1;32m     19\u001b[0m         \u001b[0mstat_window\u001b[0m \u001b[0;34m=\u001b[0m \u001b[0mstocks\u001b[0m\u001b[0;34m.\u001b[0m\u001b[0miloc\u001b[0m\u001b[0;34m[\u001b[0m\u001b[0mt\u001b[0m \u001b[0;34m-\u001b[0m \u001b[0mstart\u001b[0m \u001b[0;34m:\u001b[0m \u001b[0mt\u001b[0m\u001b[0;34m,\u001b[0m \u001b[0;34m:\u001b[0m\u001b[0;34m]\u001b[0m\u001b[0;34m\u001b[0m\u001b[0;34m\u001b[0m\u001b[0m\n\u001b[1;32m     20\u001b[0m         \u001b[0;31m#print(stat_window)\u001b[0m\u001b[0;34m\u001b[0m\u001b[0;34m\u001b[0m\u001b[0;34m\u001b[0m\u001b[0m\n\u001b[0;32m---> 21\u001b[0;31m         \u001b[0mweights\u001b[0m \u001b[0;34m=\u001b[0m \u001b[0mcalc_weights\u001b[0m\u001b[0;34m(\u001b[0m\u001b[0mstat_window\u001b[0m\u001b[0;34m,\u001b[0m \u001b[0mstrategy\u001b[0m\u001b[0;34m,\u001b[0m \u001b[0mrf\u001b[0m\u001b[0;34m,\u001b[0m \u001b[0mra\u001b[0m\u001b[0;34m,\u001b[0m \u001b[0;36m21\u001b[0m\u001b[0;34m)\u001b[0m\u001b[0;34m\u001b[0m\u001b[0;34m\u001b[0m\u001b[0m\n\u001b[0m\u001b[1;32m     22\u001b[0m         \u001b[0;31m#print( stat_window.shape)\u001b[0m\u001b[0;34m\u001b[0m\u001b[0;34m\u001b[0m\u001b[0;34m\u001b[0m\u001b[0m\n\u001b[1;32m     23\u001b[0m         \u001b[0;31m#print(weights.sum())\u001b[0m\u001b[0;34m\u001b[0m\u001b[0;34m\u001b[0m\u001b[0;34m\u001b[0m\u001b[0m\n",
      "\u001b[0;32m/var/folders/qb/q_vxkv3s4317zhpbj7wjns0m0000gn/T/ipykernel_25757/2132527072.py\u001b[0m in \u001b[0;36mcalc_weights\u001b[0;34m(window, strategy, rf, ra, num_assets)\u001b[0m\n\u001b[1;32m      1\u001b[0m \u001b[0;32mdef\u001b[0m \u001b[0mcalc_weights\u001b[0m\u001b[0;34m(\u001b[0m\u001b[0mwindow\u001b[0m\u001b[0;34m,\u001b[0m \u001b[0mstrategy\u001b[0m\u001b[0;34m,\u001b[0m \u001b[0mrf\u001b[0m\u001b[0;34m,\u001b[0m \u001b[0mra\u001b[0m\u001b[0;34m,\u001b[0m \u001b[0mnum_assets\u001b[0m\u001b[0;34m)\u001b[0m\u001b[0;34m:\u001b[0m\u001b[0;34m\u001b[0m\u001b[0;34m\u001b[0m\u001b[0m\n\u001b[1;32m      2\u001b[0m     \u001b[0;32mif\u001b[0m \u001b[0mstrategy\u001b[0m \u001b[0;34m==\u001b[0m \u001b[0;34m'TAN'\u001b[0m\u001b[0;34m:\u001b[0m\u001b[0;34m\u001b[0m\u001b[0;34m\u001b[0m\u001b[0m\n\u001b[0;32m----> 3\u001b[0;31m         \u001b[0;32mreturn\u001b[0m \u001b[0mTAN\u001b[0m\u001b[0;34m(\u001b[0m\u001b[0mwindow\u001b[0m\u001b[0;34m,\u001b[0m \u001b[0mrf\u001b[0m\u001b[0;34m,\u001b[0m \u001b[0mra\u001b[0m \u001b[0;34m)\u001b[0m\u001b[0;34m\u001b[0m\u001b[0;34m\u001b[0m\u001b[0m\n\u001b[0m\u001b[1;32m      4\u001b[0m     \u001b[0;32melif\u001b[0m \u001b[0mstrategy\u001b[0m \u001b[0;34m==\u001b[0m \u001b[0;34m'GMV'\u001b[0m\u001b[0;34m:\u001b[0m\u001b[0;34m\u001b[0m\u001b[0;34m\u001b[0m\u001b[0m\n\u001b[1;32m      5\u001b[0m         \u001b[0;32mreturn\u001b[0m \u001b[0mGMV\u001b[0m\u001b[0;34m(\u001b[0m\u001b[0mwindow\u001b[0m\u001b[0;34m,\u001b[0m \u001b[0mrf\u001b[0m\u001b[0;34m,\u001b[0m \u001b[0mnum_assets\u001b[0m\u001b[0;34m)\u001b[0m\u001b[0;34m\u001b[0m\u001b[0;34m\u001b[0m\u001b[0m\n",
      "\u001b[0;32m/var/folders/qb/q_vxkv3s4317zhpbj7wjns0m0000gn/T/ipykernel_25757/2132527072.py\u001b[0m in \u001b[0;36mTAN\u001b[0;34m(window, rf, ra)\u001b[0m\n\u001b[1;32m     34\u001b[0m \u001b[0;32mdef\u001b[0m \u001b[0mTAN\u001b[0m\u001b[0;34m(\u001b[0m\u001b[0mwindow\u001b[0m\u001b[0;34m,\u001b[0m \u001b[0mrf\u001b[0m\u001b[0;34m,\u001b[0m \u001b[0mra\u001b[0m\u001b[0;34m)\u001b[0m\u001b[0;34m:\u001b[0m\u001b[0;34m\u001b[0m\u001b[0;34m\u001b[0m\u001b[0m\n\u001b[1;32m     35\u001b[0m \u001b[0;34m\u001b[0m\u001b[0m\n\u001b[0;32m---> 36\u001b[0;31m     \u001b[0mmu\u001b[0m \u001b[0;34m=\u001b[0m \u001b[0mwindow\u001b[0m\u001b[0;34m.\u001b[0m\u001b[0miloc\u001b[0m\u001b[0;34m[\u001b[0m\u001b[0;34m:\u001b[0m\u001b[0;34m,\u001b[0m\u001b[0;34m:\u001b[0m\u001b[0;36m20\u001b[0m\u001b[0;34m]\u001b[0m\u001b[0;34m.\u001b[0m\u001b[0mmean\u001b[0m\u001b[0;34m(\u001b[0m\u001b[0;34m)\u001b[0m\u001b[0;34m\u001b[0m\u001b[0;34m\u001b[0m\u001b[0m\n\u001b[0m\u001b[1;32m     37\u001b[0m     \u001b[0mcov1\u001b[0m \u001b[0;34m=\u001b[0m \u001b[0mnp\u001b[0m\u001b[0;34m.\u001b[0m\u001b[0mcov\u001b[0m\u001b[0;34m(\u001b[0m\u001b[0mwindow\u001b[0m\u001b[0;34m.\u001b[0m\u001b[0miloc\u001b[0m\u001b[0;34m[\u001b[0m\u001b[0;34m:\u001b[0m\u001b[0;34m,\u001b[0m\u001b[0;34m:\u001b[0m\u001b[0;36m20\u001b[0m\u001b[0;34m]\u001b[0m\u001b[0;34m.\u001b[0m\u001b[0mT\u001b[0m\u001b[0;34m)\u001b[0m\u001b[0;34m\u001b[0m\u001b[0;34m\u001b[0m\u001b[0m\n\u001b[1;32m     38\u001b[0m     \u001b[0;31m#print(cov1.shape)\u001b[0m\u001b[0;34m\u001b[0m\u001b[0;34m\u001b[0m\u001b[0;34m\u001b[0m\u001b[0m\n",
      "\u001b[0;32m~/opt/anaconda3/lib/python3.8/site-packages/pandas/core/indexing.py\u001b[0m in \u001b[0;36m__getitem__\u001b[0;34m(self, key)\u001b[0m\n\u001b[1;32m    871\u001b[0m                     \u001b[0;31m# AttributeError for IntervalTree get_value\u001b[0m\u001b[0;34m\u001b[0m\u001b[0;34m\u001b[0m\u001b[0;34m\u001b[0m\u001b[0m\n\u001b[1;32m    872\u001b[0m                     \u001b[0;32mpass\u001b[0m\u001b[0;34m\u001b[0m\u001b[0;34m\u001b[0m\u001b[0m\n\u001b[0;32m--> 873\u001b[0;31m             \u001b[0;32mreturn\u001b[0m \u001b[0mself\u001b[0m\u001b[0;34m.\u001b[0m\u001b[0m_getitem_tuple\u001b[0m\u001b[0;34m(\u001b[0m\u001b[0mkey\u001b[0m\u001b[0;34m)\u001b[0m\u001b[0;34m\u001b[0m\u001b[0;34m\u001b[0m\u001b[0m\n\u001b[0m\u001b[1;32m    874\u001b[0m         \u001b[0;32melse\u001b[0m\u001b[0;34m:\u001b[0m\u001b[0;34m\u001b[0m\u001b[0;34m\u001b[0m\u001b[0m\n\u001b[1;32m    875\u001b[0m             \u001b[0;31m# we by definition only have the 0th axis\u001b[0m\u001b[0;34m\u001b[0m\u001b[0;34m\u001b[0m\u001b[0;34m\u001b[0m\u001b[0m\n",
      "\u001b[0;32m~/opt/anaconda3/lib/python3.8/site-packages/pandas/core/indexing.py\u001b[0m in \u001b[0;36m_getitem_tuple\u001b[0;34m(self, tup)\u001b[0m\n\u001b[1;32m   1447\u001b[0m             \u001b[0;32mpass\u001b[0m\u001b[0;34m\u001b[0m\u001b[0;34m\u001b[0m\u001b[0m\n\u001b[1;32m   1448\u001b[0m \u001b[0;34m\u001b[0m\u001b[0m\n\u001b[0;32m-> 1449\u001b[0;31m         \u001b[0;32mreturn\u001b[0m \u001b[0mself\u001b[0m\u001b[0;34m.\u001b[0m\u001b[0m_getitem_tuple_same_dim\u001b[0m\u001b[0;34m(\u001b[0m\u001b[0mtup\u001b[0m\u001b[0;34m)\u001b[0m\u001b[0;34m\u001b[0m\u001b[0;34m\u001b[0m\u001b[0m\n\u001b[0m\u001b[1;32m   1450\u001b[0m \u001b[0;34m\u001b[0m\u001b[0m\n\u001b[1;32m   1451\u001b[0m     \u001b[0;32mdef\u001b[0m \u001b[0m_get_list_axis\u001b[0m\u001b[0;34m(\u001b[0m\u001b[0mself\u001b[0m\u001b[0;34m,\u001b[0m \u001b[0mkey\u001b[0m\u001b[0;34m,\u001b[0m \u001b[0maxis\u001b[0m\u001b[0;34m:\u001b[0m \u001b[0mint\u001b[0m\u001b[0;34m)\u001b[0m\u001b[0;34m:\u001b[0m\u001b[0;34m\u001b[0m\u001b[0;34m\u001b[0m\u001b[0m\n",
      "\u001b[0;32m~/opt/anaconda3/lib/python3.8/site-packages/pandas/core/indexing.py\u001b[0m in \u001b[0;36m_getitem_tuple_same_dim\u001b[0;34m(self, tup)\u001b[0m\n\u001b[1;32m    748\u001b[0m                 \u001b[0;32mcontinue\u001b[0m\u001b[0;34m\u001b[0m\u001b[0;34m\u001b[0m\u001b[0m\n\u001b[1;32m    749\u001b[0m \u001b[0;34m\u001b[0m\u001b[0m\n\u001b[0;32m--> 750\u001b[0;31m             \u001b[0mretval\u001b[0m \u001b[0;34m=\u001b[0m \u001b[0mgetattr\u001b[0m\u001b[0;34m(\u001b[0m\u001b[0mretval\u001b[0m\u001b[0;34m,\u001b[0m \u001b[0mself\u001b[0m\u001b[0;34m.\u001b[0m\u001b[0mname\u001b[0m\u001b[0;34m)\u001b[0m\u001b[0;34m.\u001b[0m\u001b[0m_getitem_axis\u001b[0m\u001b[0;34m(\u001b[0m\u001b[0mkey\u001b[0m\u001b[0;34m,\u001b[0m \u001b[0maxis\u001b[0m\u001b[0;34m=\u001b[0m\u001b[0mi\u001b[0m\u001b[0;34m)\u001b[0m\u001b[0;34m\u001b[0m\u001b[0;34m\u001b[0m\u001b[0m\n\u001b[0m\u001b[1;32m    751\u001b[0m             \u001b[0;31m# We should never have retval.ndim < self.ndim, as that should\u001b[0m\u001b[0;34m\u001b[0m\u001b[0;34m\u001b[0m\u001b[0;34m\u001b[0m\u001b[0m\n\u001b[1;32m    752\u001b[0m             \u001b[0;31m#  be handled by the _getitem_lowerdim call above.\u001b[0m\u001b[0;34m\u001b[0m\u001b[0;34m\u001b[0m\u001b[0;34m\u001b[0m\u001b[0m\n",
      "\u001b[0;32m~/opt/anaconda3/lib/python3.8/site-packages/pandas/core/indexing.py\u001b[0m in \u001b[0;36m_getitem_axis\u001b[0;34m(self, key, axis)\u001b[0m\n\u001b[1;32m   1474\u001b[0m     \u001b[0;32mdef\u001b[0m \u001b[0m_getitem_axis\u001b[0m\u001b[0;34m(\u001b[0m\u001b[0mself\u001b[0m\u001b[0;34m,\u001b[0m \u001b[0mkey\u001b[0m\u001b[0;34m,\u001b[0m \u001b[0maxis\u001b[0m\u001b[0;34m:\u001b[0m \u001b[0mint\u001b[0m\u001b[0;34m)\u001b[0m\u001b[0;34m:\u001b[0m\u001b[0;34m\u001b[0m\u001b[0;34m\u001b[0m\u001b[0m\n\u001b[1;32m   1475\u001b[0m         \u001b[0;32mif\u001b[0m \u001b[0misinstance\u001b[0m\u001b[0;34m(\u001b[0m\u001b[0mkey\u001b[0m\u001b[0;34m,\u001b[0m \u001b[0mslice\u001b[0m\u001b[0;34m)\u001b[0m\u001b[0;34m:\u001b[0m\u001b[0;34m\u001b[0m\u001b[0;34m\u001b[0m\u001b[0m\n\u001b[0;32m-> 1476\u001b[0;31m             \u001b[0;32mreturn\u001b[0m \u001b[0mself\u001b[0m\u001b[0;34m.\u001b[0m\u001b[0m_get_slice_axis\u001b[0m\u001b[0;34m(\u001b[0m\u001b[0mkey\u001b[0m\u001b[0;34m,\u001b[0m \u001b[0maxis\u001b[0m\u001b[0;34m=\u001b[0m\u001b[0maxis\u001b[0m\u001b[0;34m)\u001b[0m\u001b[0;34m\u001b[0m\u001b[0;34m\u001b[0m\u001b[0m\n\u001b[0m\u001b[1;32m   1477\u001b[0m \u001b[0;34m\u001b[0m\u001b[0m\n\u001b[1;32m   1478\u001b[0m         \u001b[0;32mif\u001b[0m \u001b[0misinstance\u001b[0m\u001b[0;34m(\u001b[0m\u001b[0mkey\u001b[0m\u001b[0;34m,\u001b[0m \u001b[0mlist\u001b[0m\u001b[0;34m)\u001b[0m\u001b[0;34m:\u001b[0m\u001b[0;34m\u001b[0m\u001b[0;34m\u001b[0m\u001b[0m\n",
      "\u001b[0;32m~/opt/anaconda3/lib/python3.8/site-packages/pandas/core/indexing.py\u001b[0m in \u001b[0;36m_get_slice_axis\u001b[0;34m(self, slice_obj, axis)\u001b[0m\n\u001b[1;32m   1507\u001b[0m         \u001b[0mlabels\u001b[0m \u001b[0;34m=\u001b[0m \u001b[0mobj\u001b[0m\u001b[0;34m.\u001b[0m\u001b[0m_get_axis\u001b[0m\u001b[0;34m(\u001b[0m\u001b[0maxis\u001b[0m\u001b[0;34m)\u001b[0m\u001b[0;34m\u001b[0m\u001b[0;34m\u001b[0m\u001b[0m\n\u001b[1;32m   1508\u001b[0m         \u001b[0mlabels\u001b[0m\u001b[0;34m.\u001b[0m\u001b[0m_validate_positional_slice\u001b[0m\u001b[0;34m(\u001b[0m\u001b[0mslice_obj\u001b[0m\u001b[0;34m)\u001b[0m\u001b[0;34m\u001b[0m\u001b[0;34m\u001b[0m\u001b[0m\n\u001b[0;32m-> 1509\u001b[0;31m         \u001b[0;32mreturn\u001b[0m \u001b[0mself\u001b[0m\u001b[0;34m.\u001b[0m\u001b[0mobj\u001b[0m\u001b[0;34m.\u001b[0m\u001b[0m_slice\u001b[0m\u001b[0;34m(\u001b[0m\u001b[0mslice_obj\u001b[0m\u001b[0;34m,\u001b[0m \u001b[0maxis\u001b[0m\u001b[0;34m=\u001b[0m\u001b[0maxis\u001b[0m\u001b[0;34m)\u001b[0m\u001b[0;34m\u001b[0m\u001b[0;34m\u001b[0m\u001b[0m\n\u001b[0m\u001b[1;32m   1510\u001b[0m \u001b[0;34m\u001b[0m\u001b[0m\n\u001b[1;32m   1511\u001b[0m     \u001b[0;32mdef\u001b[0m \u001b[0m_convert_to_indexer\u001b[0m\u001b[0;34m(\u001b[0m\u001b[0mself\u001b[0m\u001b[0;34m,\u001b[0m \u001b[0mkey\u001b[0m\u001b[0;34m,\u001b[0m \u001b[0maxis\u001b[0m\u001b[0;34m:\u001b[0m \u001b[0mint\u001b[0m\u001b[0;34m,\u001b[0m \u001b[0mis_setter\u001b[0m\u001b[0;34m:\u001b[0m \u001b[0mbool\u001b[0m \u001b[0;34m=\u001b[0m \u001b[0;32mFalse\u001b[0m\u001b[0;34m)\u001b[0m\u001b[0;34m:\u001b[0m\u001b[0;34m\u001b[0m\u001b[0;34m\u001b[0m\u001b[0m\n",
      "\u001b[0;32m~/opt/anaconda3/lib/python3.8/site-packages/pandas/core/generic.py\u001b[0m in \u001b[0;36m_slice\u001b[0;34m(self, slobj, axis)\u001b[0m\n\u001b[1;32m   3557\u001b[0m         \u001b[0;32massert\u001b[0m \u001b[0misinstance\u001b[0m\u001b[0;34m(\u001b[0m\u001b[0mslobj\u001b[0m\u001b[0;34m,\u001b[0m \u001b[0mslice\u001b[0m\u001b[0;34m)\u001b[0m\u001b[0;34m,\u001b[0m \u001b[0mtype\u001b[0m\u001b[0;34m(\u001b[0m\u001b[0mslobj\u001b[0m\u001b[0;34m)\u001b[0m\u001b[0;34m\u001b[0m\u001b[0;34m\u001b[0m\u001b[0m\n\u001b[1;32m   3558\u001b[0m         \u001b[0maxis\u001b[0m \u001b[0;34m=\u001b[0m \u001b[0mself\u001b[0m\u001b[0;34m.\u001b[0m\u001b[0m_get_block_manager_axis\u001b[0m\u001b[0;34m(\u001b[0m\u001b[0maxis\u001b[0m\u001b[0;34m)\u001b[0m\u001b[0;34m\u001b[0m\u001b[0;34m\u001b[0m\u001b[0m\n\u001b[0;32m-> 3559\u001b[0;31m         \u001b[0mresult\u001b[0m \u001b[0;34m=\u001b[0m \u001b[0mself\u001b[0m\u001b[0;34m.\u001b[0m\u001b[0m_constructor\u001b[0m\u001b[0;34m(\u001b[0m\u001b[0mself\u001b[0m\u001b[0;34m.\u001b[0m\u001b[0m_mgr\u001b[0m\u001b[0;34m.\u001b[0m\u001b[0mget_slice\u001b[0m\u001b[0;34m(\u001b[0m\u001b[0mslobj\u001b[0m\u001b[0;34m,\u001b[0m \u001b[0maxis\u001b[0m\u001b[0;34m=\u001b[0m\u001b[0maxis\u001b[0m\u001b[0;34m)\u001b[0m\u001b[0;34m)\u001b[0m\u001b[0;34m\u001b[0m\u001b[0;34m\u001b[0m\u001b[0m\n\u001b[0m\u001b[1;32m   3560\u001b[0m         \u001b[0mresult\u001b[0m \u001b[0;34m=\u001b[0m \u001b[0mresult\u001b[0m\u001b[0;34m.\u001b[0m\u001b[0m__finalize__\u001b[0m\u001b[0;34m(\u001b[0m\u001b[0mself\u001b[0m\u001b[0;34m)\u001b[0m\u001b[0;34m\u001b[0m\u001b[0;34m\u001b[0m\u001b[0m\n\u001b[1;32m   3561\u001b[0m \u001b[0;34m\u001b[0m\u001b[0m\n",
      "\u001b[0;32m~/opt/anaconda3/lib/python3.8/site-packages/pandas/core/internals/managers.py\u001b[0m in \u001b[0;36mget_slice\u001b[0;34m(self, slobj, axis)\u001b[0m\n\u001b[1;32m    758\u001b[0m \u001b[0;34m\u001b[0m\u001b[0m\n\u001b[1;32m    759\u001b[0m         \u001b[0;32mif\u001b[0m \u001b[0maxis\u001b[0m \u001b[0;34m==\u001b[0m \u001b[0;36m0\u001b[0m\u001b[0;34m:\u001b[0m\u001b[0;34m\u001b[0m\u001b[0;34m\u001b[0m\u001b[0m\n\u001b[0;32m--> 760\u001b[0;31m             \u001b[0mnew_blocks\u001b[0m \u001b[0;34m=\u001b[0m \u001b[0mself\u001b[0m\u001b[0;34m.\u001b[0m\u001b[0m_slice_take_blocks_ax0\u001b[0m\u001b[0;34m(\u001b[0m\u001b[0mslobj\u001b[0m\u001b[0;34m)\u001b[0m\u001b[0;34m\u001b[0m\u001b[0;34m\u001b[0m\u001b[0m\n\u001b[0m\u001b[1;32m    761\u001b[0m         \u001b[0;32melif\u001b[0m \u001b[0maxis\u001b[0m \u001b[0;34m==\u001b[0m \u001b[0;36m1\u001b[0m\u001b[0;34m:\u001b[0m\u001b[0;34m\u001b[0m\u001b[0;34m\u001b[0m\u001b[0m\n\u001b[1;32m    762\u001b[0m             \u001b[0mslicer\u001b[0m \u001b[0;34m=\u001b[0m \u001b[0;34m(\u001b[0m\u001b[0mslice\u001b[0m\u001b[0;34m(\u001b[0m\u001b[0;32mNone\u001b[0m\u001b[0;34m)\u001b[0m\u001b[0;34m,\u001b[0m \u001b[0mslobj\u001b[0m\u001b[0;34m)\u001b[0m\u001b[0;34m\u001b[0m\u001b[0;34m\u001b[0m\u001b[0m\n",
      "\u001b[0;32m~/opt/anaconda3/lib/python3.8/site-packages/pandas/core/internals/managers.py\u001b[0m in \u001b[0;36m_slice_take_blocks_ax0\u001b[0;34m(self, slice_or_indexer, fill_value, only_slice)\u001b[0m\n\u001b[1;32m   1408\u001b[0m                             \u001b[0mblocks\u001b[0m\u001b[0;34m.\u001b[0m\u001b[0mappend\u001b[0m\u001b[0;34m(\u001b[0m\u001b[0mnb\u001b[0m\u001b[0;34m)\u001b[0m\u001b[0;34m\u001b[0m\u001b[0;34m\u001b[0m\u001b[0m\n\u001b[1;32m   1409\u001b[0m                     \u001b[0;32melse\u001b[0m\u001b[0;34m:\u001b[0m\u001b[0;34m\u001b[0m\u001b[0;34m\u001b[0m\u001b[0m\n\u001b[0;32m-> 1410\u001b[0;31m                         \u001b[0mnb\u001b[0m \u001b[0;34m=\u001b[0m \u001b[0mblk\u001b[0m\u001b[0;34m.\u001b[0m\u001b[0mtake_nd\u001b[0m\u001b[0;34m(\u001b[0m\u001b[0mtaker\u001b[0m\u001b[0;34m,\u001b[0m \u001b[0maxis\u001b[0m\u001b[0;34m=\u001b[0m\u001b[0;36m0\u001b[0m\u001b[0;34m,\u001b[0m \u001b[0mnew_mgr_locs\u001b[0m\u001b[0;34m=\u001b[0m\u001b[0mmgr_locs\u001b[0m\u001b[0;34m)\u001b[0m\u001b[0;34m\u001b[0m\u001b[0;34m\u001b[0m\u001b[0m\n\u001b[0m\u001b[1;32m   1411\u001b[0m                         \u001b[0mblocks\u001b[0m\u001b[0;34m.\u001b[0m\u001b[0mappend\u001b[0m\u001b[0;34m(\u001b[0m\u001b[0mnb\u001b[0m\u001b[0;34m)\u001b[0m\u001b[0;34m\u001b[0m\u001b[0;34m\u001b[0m\u001b[0m\n\u001b[1;32m   1412\u001b[0m \u001b[0;34m\u001b[0m\u001b[0m\n",
      "\u001b[0;32m~/opt/anaconda3/lib/python3.8/site-packages/pandas/core/internals/blocks.py\u001b[0m in \u001b[0;36mtake_nd\u001b[0;34m(self, indexer, axis, new_mgr_locs, fill_value)\u001b[0m\n\u001b[1;32m   1253\u001b[0m             \u001b[0mallow_fill\u001b[0m \u001b[0;34m=\u001b[0m \u001b[0;32mTrue\u001b[0m\u001b[0;34m\u001b[0m\u001b[0;34m\u001b[0m\u001b[0m\n\u001b[1;32m   1254\u001b[0m \u001b[0;34m\u001b[0m\u001b[0m\n\u001b[0;32m-> 1255\u001b[0;31m         new_values = algos.take_nd(\n\u001b[0m\u001b[1;32m   1256\u001b[0m             \u001b[0mvalues\u001b[0m\u001b[0;34m,\u001b[0m \u001b[0mindexer\u001b[0m\u001b[0;34m,\u001b[0m \u001b[0maxis\u001b[0m\u001b[0;34m=\u001b[0m\u001b[0maxis\u001b[0m\u001b[0;34m,\u001b[0m \u001b[0mallow_fill\u001b[0m\u001b[0;34m=\u001b[0m\u001b[0mallow_fill\u001b[0m\u001b[0;34m,\u001b[0m \u001b[0mfill_value\u001b[0m\u001b[0;34m=\u001b[0m\u001b[0mfill_value\u001b[0m\u001b[0;34m\u001b[0m\u001b[0;34m\u001b[0m\u001b[0m\n\u001b[1;32m   1257\u001b[0m         )\n",
      "\u001b[0;32m~/opt/anaconda3/lib/python3.8/site-packages/pandas/core/algorithms.py\u001b[0m in \u001b[0;36mtake_nd\u001b[0;34m(arr, indexer, axis, out, fill_value, allow_fill)\u001b[0m\n\u001b[1;32m   1708\u001b[0m             \u001b[0mout\u001b[0m \u001b[0;34m=\u001b[0m \u001b[0mnp\u001b[0m\u001b[0;34m.\u001b[0m\u001b[0mempty\u001b[0m\u001b[0;34m(\u001b[0m\u001b[0mout_shape\u001b[0m\u001b[0;34m,\u001b[0m \u001b[0mdtype\u001b[0m\u001b[0;34m=\u001b[0m\u001b[0mdtype\u001b[0m\u001b[0;34m)\u001b[0m\u001b[0;34m\u001b[0m\u001b[0;34m\u001b[0m\u001b[0m\n\u001b[1;32m   1709\u001b[0m \u001b[0;34m\u001b[0m\u001b[0m\n\u001b[0;32m-> 1710\u001b[0;31m     func = _get_take_nd_function(\n\u001b[0m\u001b[1;32m   1711\u001b[0m         \u001b[0marr\u001b[0m\u001b[0;34m.\u001b[0m\u001b[0mndim\u001b[0m\u001b[0;34m,\u001b[0m \u001b[0marr\u001b[0m\u001b[0;34m.\u001b[0m\u001b[0mdtype\u001b[0m\u001b[0;34m,\u001b[0m \u001b[0mout\u001b[0m\u001b[0;34m.\u001b[0m\u001b[0mdtype\u001b[0m\u001b[0;34m,\u001b[0m \u001b[0maxis\u001b[0m\u001b[0;34m=\u001b[0m\u001b[0maxis\u001b[0m\u001b[0;34m,\u001b[0m \u001b[0mmask_info\u001b[0m\u001b[0;34m=\u001b[0m\u001b[0mmask_info\u001b[0m\u001b[0;34m\u001b[0m\u001b[0;34m\u001b[0m\u001b[0m\n\u001b[1;32m   1712\u001b[0m     )\n",
      "\u001b[0;32m~/opt/anaconda3/lib/python3.8/site-packages/pandas/core/algorithms.py\u001b[0m in \u001b[0;36m_get_take_nd_function\u001b[0;34m(ndim, arr_dtype, out_dtype, axis, mask_info)\u001b[0m\n\u001b[1;32m   1489\u001b[0m ):\n\u001b[1;32m   1490\u001b[0m     \u001b[0;32mif\u001b[0m \u001b[0mndim\u001b[0m \u001b[0;34m<=\u001b[0m \u001b[0;36m2\u001b[0m\u001b[0;34m:\u001b[0m\u001b[0;34m\u001b[0m\u001b[0;34m\u001b[0m\u001b[0m\n\u001b[0;32m-> 1491\u001b[0;31m         \u001b[0mtup\u001b[0m \u001b[0;34m=\u001b[0m \u001b[0;34m(\u001b[0m\u001b[0marr_dtype\u001b[0m\u001b[0;34m.\u001b[0m\u001b[0mname\u001b[0m\u001b[0;34m,\u001b[0m \u001b[0mout_dtype\u001b[0m\u001b[0;34m.\u001b[0m\u001b[0mname\u001b[0m\u001b[0;34m)\u001b[0m\u001b[0;34m\u001b[0m\u001b[0;34m\u001b[0m\u001b[0m\n\u001b[0m\u001b[1;32m   1492\u001b[0m         \u001b[0;32mif\u001b[0m \u001b[0mndim\u001b[0m \u001b[0;34m==\u001b[0m \u001b[0;36m1\u001b[0m\u001b[0;34m:\u001b[0m\u001b[0;34m\u001b[0m\u001b[0;34m\u001b[0m\u001b[0m\n\u001b[1;32m   1493\u001b[0m             \u001b[0mfunc\u001b[0m \u001b[0;34m=\u001b[0m \u001b[0m_take_1d_dict\u001b[0m\u001b[0;34m.\u001b[0m\u001b[0mget\u001b[0m\u001b[0;34m(\u001b[0m\u001b[0mtup\u001b[0m\u001b[0;34m,\u001b[0m \u001b[0;32mNone\u001b[0m\u001b[0;34m)\u001b[0m\u001b[0;34m\u001b[0m\u001b[0;34m\u001b[0m\u001b[0m\n",
      "\u001b[0;32m~/opt/anaconda3/lib/python3.8/site-packages/numpy/core/_dtype.py\u001b[0m in \u001b[0;36m_name_get\u001b[0;34m(dtype)\u001b[0m\n\u001b[1;32m    337\u001b[0m \u001b[0;34m\u001b[0m\u001b[0m\n\u001b[1;32m    338\u001b[0m     \u001b[0;31m# append metadata to datetimes\u001b[0m\u001b[0;34m\u001b[0m\u001b[0;34m\u001b[0m\u001b[0;34m\u001b[0m\u001b[0m\n\u001b[0;32m--> 339\u001b[0;31m     \u001b[0;32mif\u001b[0m \u001b[0mdtype\u001b[0m\u001b[0;34m.\u001b[0m\u001b[0mtype\u001b[0m \u001b[0;32min\u001b[0m \u001b[0;34m(\u001b[0m\u001b[0mnp\u001b[0m\u001b[0;34m.\u001b[0m\u001b[0mdatetime64\u001b[0m\u001b[0;34m,\u001b[0m \u001b[0mnp\u001b[0m\u001b[0;34m.\u001b[0m\u001b[0mtimedelta64\u001b[0m\u001b[0;34m)\u001b[0m\u001b[0;34m:\u001b[0m\u001b[0;34m\u001b[0m\u001b[0;34m\u001b[0m\u001b[0m\n\u001b[0m\u001b[1;32m    340\u001b[0m         \u001b[0mname\u001b[0m \u001b[0;34m+=\u001b[0m \u001b[0m_datetime_metadata_str\u001b[0m\u001b[0;34m(\u001b[0m\u001b[0mdtype\u001b[0m\u001b[0;34m)\u001b[0m\u001b[0;34m\u001b[0m\u001b[0;34m\u001b[0m\u001b[0m\n\u001b[1;32m    341\u001b[0m \u001b[0;34m\u001b[0m\u001b[0m\n",
      "\u001b[0;31mKeyboardInterrupt\u001b[0m: "
     ]
    }
   ],
   "source": [
    "x = np.linspace(0.5, 30, 50)\n",
    "y = []\n",
    "for i in x:\n",
    "    profit,final_profit = run_strategy('TAN', df, 0.015, i)\n",
    "    y.append(b)\n",
    "\n",
    "plt.plot(x, y)"
   ]
  },
  {
   "cell_type": "code",
   "execution_count": 220,
   "metadata": {
    "collapsed": false,
    "pycharm": {
     "name": "#%%\n"
    }
   },
   "outputs": [
    {
     "data": {
      "text/plain": [
       "[-1312260606684.9456,\n",
       " -5.52722840435062e-07,\n",
       " 0.01297732521868547,\n",
       " 2.202833955217745,\n",
       " 6.577942436380618,\n",
       " 62.81141372785179,\n",
       " 100.76843926362672,\n",
       " 104.43746981448021,\n",
       " 92.45170833536339,\n",
       " 77.16306090091726,\n",
       " 63.251844602377744,\n",
       " 51.84698710214036,\n",
       " 42.83747443557978,\n",
       " 35.792278641075725,\n",
       " 30.274292885786096,\n",
       " 25.921373809454636,\n",
       " 22.454043933364694,\n",
       " 19.66277270211527,\n",
       " 17.39017227119904,\n",
       " 15.520299275544057,\n",
       " 13.966502582449564,\n",
       " 12.662951076818171,\n",
       " 11.559888832553934,\n",
       " 10.61875626909191,\n",
       " 9.80969159901574,\n",
       " 9.108784573359682,\n",
       " 8.49729247364028,\n",
       " 7.960322077256528,\n",
       " 7.486087994119304,\n",
       " 7.06495181920472,\n",
       " 6.689054070557062,\n",
       " 6.35204069275935,\n",
       " 6.04864970926346,\n",
       " 5.774377249580888,\n",
       " 5.525487975404143,\n",
       " 5.298872266672151,\n",
       " 5.0918101882851765,\n",
       " 4.902023369718388,\n",
       " 4.727566639889737,\n",
       " 4.566763801268627,\n",
       " 4.418164211322243,\n",
       " 4.2805072901824195,\n",
       " 4.152693353502657,\n",
       " 4.033759521627915,\n",
       " 3.922859725035766,\n",
       " 3.8192480325236056,\n",
       " 3.7222646882188335,\n",
       " 3.631324367554428,\n",
       " 3.545906259335808,\n",
       " 3.4655456572494834]"
      ]
     },
     "execution_count": 220,
     "metadata": {},
     "output_type": "execute_result"
    }
   ],
   "source": [
    "y"
   ]
  },
  {
   "cell_type": "code",
   "execution_count": null,
   "metadata": {
    "collapsed": false,
    "pycharm": {
     "name": "#%%\n"
    }
   },
   "outputs": [],
   "source": []
  }
 ],
 "metadata": {
  "kernelspec": {
   "display_name": "Python 3",
   "language": "python",
   "name": "python3"
  },
  "language_info": {
   "codemirror_mode": {
    "name": "ipython",
    "version": 3
   },
   "file_extension": ".py",
   "mimetype": "text/x-python",
   "name": "python",
   "nbconvert_exporter": "python",
   "pygments_lexer": "ipython3",
   "version": "3.9.12"
  }
 },
 "nbformat": 4,
 "nbformat_minor": 0
}
